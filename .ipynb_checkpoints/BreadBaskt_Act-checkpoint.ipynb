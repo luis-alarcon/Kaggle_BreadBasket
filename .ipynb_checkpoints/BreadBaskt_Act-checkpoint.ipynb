{
 "cells": [
  {
   "cell_type": "markdown",
   "metadata": {
    "_uuid": "5e113dc4755ac58f2eec6e220286affc00951f0c"
   },
   "source": [
    "<h1>BreadBasket: Selling Patterns</h1>\n",
    "<h2>by Luis Alarcon</h2>"
   ]
  },
  {
   "cell_type": "markdown",
   "metadata": {
    "_uuid": "2f914213e3004a4c4ce8a2f6dea00a4fcf293705"
   },
   "source": [
    "<h2><a class=\"anchor\" id=\"introduction\">Introduction</a></h2>\n",
    "\n",
    "<p>The dataset belongs to \"The Bread Basket\" a bakery located in Edinburgh. The dataset has 21293 entires, over 6000 transactions and 4 columns:</p>\n",
    "<ul>\n",
    "    <li><b>Date</b>: Categorical variable that tells us the date of the transactions (YYYY-MM-DD format).</li>\n",
    "    <li><b>Time</b>: Categorical variable that tells us the time of the transactions (HH:MM:SS format).</li>\n",
    "    <li><b>Transaction</b>: Quantitative variable that allows us to differentiate the transactions. The rows that share the same value in this field belong to the same transaction, that's why the data set has less transactions than observations.</li>\n",
    "    <li><b>Item</b>: Categorical variable with the products.</li>\n",
    "</ul>\n",
    "\n"
   ]
  },
  {
   "cell_type": "code",
   "execution_count": 1,
   "metadata": {},
   "outputs": [],
   "source": [
    "#Packages been Imported for the project\n",
    "import pandas as pd\n",
    "from multiprocessing.dummy import Pool as ThreadPool \n",
    "import numpy as np\n",
    "import matplotlib.pyplot as plt\n"
   ]
  },
  {
   "cell_type": "code",
   "execution_count": 2,
   "metadata": {
    "_kg_hide-input": false,
    "_kg_hide-output": false,
    "_uuid": "97cc18aac8227106e019001fa099ec588952f5f4"
   },
   "outputs": [
    {
     "name": "stdout",
     "output_type": "stream",
     "text": [
      "Overall information about the BreadBasket_DMS dataset\n",
      "<class 'pandas.core.frame.DataFrame'>\n",
      "RangeIndex: 21293 entries, 0 to 21292\n",
      "Data columns (total 4 columns):\n",
      "Date           21293 non-null object\n",
      "Time           21293 non-null object\n",
      "Transaction    21293 non-null int64\n",
      "Item           21293 non-null object\n",
      "dtypes: int64(1), object(3)\n",
      "memory usage: 665.5+ KB\n",
      "\n",
      "Sample of the BreadBasket_DMS dataset\n"
     ]
    },
    {
     "data": {
      "text/html": [
       "<div>\n",
       "<style scoped>\n",
       "    .dataframe tbody tr th:only-of-type {\n",
       "        vertical-align: middle;\n",
       "    }\n",
       "\n",
       "    .dataframe tbody tr th {\n",
       "        vertical-align: top;\n",
       "    }\n",
       "\n",
       "    .dataframe thead th {\n",
       "        text-align: right;\n",
       "    }\n",
       "</style>\n",
       "<table border=\"1\" class=\"dataframe\">\n",
       "  <thead>\n",
       "    <tr style=\"text-align: right;\">\n",
       "      <th></th>\n",
       "      <th>Date</th>\n",
       "      <th>Time</th>\n",
       "      <th>Transaction</th>\n",
       "      <th>Item</th>\n",
       "    </tr>\n",
       "  </thead>\n",
       "  <tbody>\n",
       "    <tr>\n",
       "      <th>0</th>\n",
       "      <td>2016-10-30</td>\n",
       "      <td>09:58:11</td>\n",
       "      <td>1</td>\n",
       "      <td>Bread</td>\n",
       "    </tr>\n",
       "    <tr>\n",
       "      <th>1</th>\n",
       "      <td>2016-10-30</td>\n",
       "      <td>10:05:34</td>\n",
       "      <td>2</td>\n",
       "      <td>Scandinavian</td>\n",
       "    </tr>\n",
       "    <tr>\n",
       "      <th>2</th>\n",
       "      <td>2016-10-30</td>\n",
       "      <td>10:05:34</td>\n",
       "      <td>2</td>\n",
       "      <td>Scandinavian</td>\n",
       "    </tr>\n",
       "    <tr>\n",
       "      <th>3</th>\n",
       "      <td>2016-10-30</td>\n",
       "      <td>10:07:57</td>\n",
       "      <td>3</td>\n",
       "      <td>Hot chocolate</td>\n",
       "    </tr>\n",
       "    <tr>\n",
       "      <th>4</th>\n",
       "      <td>2016-10-30</td>\n",
       "      <td>10:07:57</td>\n",
       "      <td>3</td>\n",
       "      <td>Jam</td>\n",
       "    </tr>\n",
       "  </tbody>\n",
       "</table>\n",
       "</div>"
      ],
      "text/plain": [
       "         Date      Time  Transaction           Item\n",
       "0  2016-10-30  09:58:11            1          Bread\n",
       "1  2016-10-30  10:05:34            2   Scandinavian\n",
       "2  2016-10-30  10:05:34            2   Scandinavian\n",
       "3  2016-10-30  10:07:57            3  Hot chocolate\n",
       "4  2016-10-30  10:07:57            3            Jam"
      ]
     },
     "execution_count": 2,
     "metadata": {},
     "output_type": "execute_result"
    }
   ],
   "source": [
    "#loading extra packages\n",
    "\n",
    "#Loading Dataset\n",
    "df = pd.read_csv(\"./dataset/BreadBasket_DMS.csv\")\n",
    "print(\"Overall information about the BreadBasket_DMS dataset\")\n",
    "df.info()\n",
    "print(\"\\nSample of the BreadBasket_DMS dataset\")\n",
    "df.head(5)"
   ]
  },
  {
   "cell_type": "markdown",
   "metadata": {
    "_uuid": "8602d8b3a10ed71432a96c216df076960d30aa32"
   },
   "source": [
    "<h2><a class=\"anchor\" id=\"aims\">Aims</a></h2>"
   ]
  },
  {
   "cell_type": "markdown",
   "metadata": {
    "_uuid": "42ec4e2559b798cc4fcf71873e73bfddc35e45de"
   },
   "source": [
    "<h2><a class=\"anchor\" id=\"quality_analysis\">Quality Analysis</a></h2>\n",
    "<h3><a class=\"anchor\" id=\"null_values\">Null Values</a></h3>"
   ]
  },
  {
   "cell_type": "code",
   "execution_count": 3,
   "metadata": {
    "_uuid": "1a83df97ae5be49a9474a2a851a401810d178b0e"
   },
   "outputs": [
    {
     "data": {
      "text/plain": [
       "False"
      ]
     },
     "execution_count": 3,
     "metadata": {},
     "output_type": "execute_result"
    }
   ],
   "source": [
    "df.isnull().values.any()"
   ]
  },
  {
   "cell_type": "markdown",
   "metadata": {
    "_uuid": "e37c9b7f24c88d689af76ae987f2c6499b7507bd"
   },
   "source": [
    "<p>There were no null values found in the dataset. Therefore we proceed to find any values in the Item column that does not represent an item to be sold. For example, \"none\".</p>"
   ]
  },
  {
   "cell_type": "code",
   "execution_count": 4,
   "metadata": {
    "_uuid": "04c2c43133aa1687d5767d2d9a691db36df5e9a0"
   },
   "outputs": [
    {
     "name": "stdout",
     "output_type": "stream",
     "text": [
      "NONE    786\n",
      "Name: Item, dtype: int64\n"
     ]
    }
   ],
   "source": [
    "print(df.loc[df[\"Item\"]==\"NONE\"].Item.value_counts())"
   ]
  },
  {
   "cell_type": "markdown",
   "metadata": {
    "_uuid": "0f566e1a89c50325d11321171a178ec615b70d03"
   },
   "source": [
    "<p>There are a total of 786 entries with transactions with a \"None\" item. This value seems high, and we continue by finding the top then items found in the dataset and see where \"None\" is found.</p>"
   ]
  },
  {
   "cell_type": "code",
   "execution_count": 5,
   "metadata": {
    "_uuid": "deda176e23e7ab4cc59104e4b221f49397707415"
   },
   "outputs": [
    {
     "name": "stdout",
     "output_type": "stream",
     "text": [
      "Top 10 most ordered time in transactions\n"
     ]
    },
    {
     "data": {
      "text/plain": [
       "Coffee           5471\n",
       "Bread            3325\n",
       "Tea              1435\n",
       "Cake             1025\n",
       "Pastry            856\n",
       "NONE              786\n",
       "Sandwich          771\n",
       "Medialuna         616\n",
       "Hot chocolate     590\n",
       "Cookies           540\n",
       "Name: Item, dtype: int64"
      ]
     },
     "execution_count": 5,
     "metadata": {},
     "output_type": "execute_result"
    }
   ],
   "source": [
    "# Count of Unique Items in transactions\n",
    "df_counts = df[\"Item\"].value_counts()\n",
    "#top ten items bought\n",
    "print(\"Top 10 most ordered time in transactions\")\n",
    "df_counts.head(10)"
   ]
  },
  {
   "cell_type": "markdown",
   "metadata": {
    "_uuid": "90352df1cded269a0581af76b834de3a72a4f730"
   },
   "source": [
    "<h3><a class=\"anchor\" id=\"data_problems\">Data Problems</a></h3>\n",
    "<p>After initial analysis of the BreadBasket dataset, some issues were found:</p>\n",
    "<ol>\n",
    "    <li><b>Item</b>: The items in the dataset with value \"None\" needs to be eliminated from the dataset.</li>\n",
    "    <li><b>Date and Time</b>: These columns are <i>non-null object</i> and need to be changed to <i>datetime</i> data type.</li>\n",
    "    <li><b>date_time</b>: A new column needs to be created that binds the column Date and Time as one and under the <i>datetime</i> data type. </li>\n",
    "    <li><b>period_day</b>: A new column will be created that shows whether the transaction was made in the morning, afternoon, evening or night.</li>\n",
    "    <li><b>weekday_weekend</b>: A new column will be created that shows whether the transaction was made in the weekday or weekend.</li>\n",
    "    <li><b>weekday</b>: A new column will be created that shows which day of the week the transaction was made.</li>\n",
    "</ol>\n",
    "\n",
    "<p>All the new columns are created in order to have a better possibility to understand purchase pattern depending on more factors.</p>\n",
    " \t \t"
   ]
  },
  {
   "cell_type": "markdown",
   "metadata": {
    "_uuid": "91cd2a2305f427a88256bd2c0e760214b361c4b5"
   },
   "source": [
    "<h4>1. Item</h4>"
   ]
  },
  {
   "cell_type": "code",
   "execution_count": 6,
   "metadata": {
    "_uuid": "8ccf40fd1c3849409f32bccadb90943f1d0ba349"
   },
   "outputs": [
    {
     "data": {
      "text/html": [
       "<div>\n",
       "<style scoped>\n",
       "    .dataframe tbody tr th:only-of-type {\n",
       "        vertical-align: middle;\n",
       "    }\n",
       "\n",
       "    .dataframe tbody tr th {\n",
       "        vertical-align: top;\n",
       "    }\n",
       "\n",
       "    .dataframe thead th {\n",
       "        text-align: right;\n",
       "    }\n",
       "</style>\n",
       "<table border=\"1\" class=\"dataframe\">\n",
       "  <thead>\n",
       "    <tr style=\"text-align: right;\">\n",
       "      <th></th>\n",
       "      <th>Date</th>\n",
       "      <th>Time</th>\n",
       "      <th>Transaction</th>\n",
       "      <th>Item</th>\n",
       "    </tr>\n",
       "  </thead>\n",
       "  <tbody>\n",
       "    <tr>\n",
       "      <th>0</th>\n",
       "      <td>2016-10-30</td>\n",
       "      <td>09:58:11</td>\n",
       "      <td>1</td>\n",
       "      <td>Bread</td>\n",
       "    </tr>\n",
       "    <tr>\n",
       "      <th>1</th>\n",
       "      <td>2016-10-30</td>\n",
       "      <td>10:05:34</td>\n",
       "      <td>2</td>\n",
       "      <td>Scandinavian</td>\n",
       "    </tr>\n",
       "    <tr>\n",
       "      <th>2</th>\n",
       "      <td>2016-10-30</td>\n",
       "      <td>10:05:34</td>\n",
       "      <td>2</td>\n",
       "      <td>Scandinavian</td>\n",
       "    </tr>\n",
       "    <tr>\n",
       "      <th>3</th>\n",
       "      <td>2016-10-30</td>\n",
       "      <td>10:07:57</td>\n",
       "      <td>3</td>\n",
       "      <td>Hot chocolate</td>\n",
       "    </tr>\n",
       "    <tr>\n",
       "      <th>4</th>\n",
       "      <td>2016-10-30</td>\n",
       "      <td>10:07:57</td>\n",
       "      <td>3</td>\n",
       "      <td>Jam</td>\n",
       "    </tr>\n",
       "    <tr>\n",
       "      <th>5</th>\n",
       "      <td>2016-10-30</td>\n",
       "      <td>10:07:57</td>\n",
       "      <td>3</td>\n",
       "      <td>Cookies</td>\n",
       "    </tr>\n",
       "    <tr>\n",
       "      <th>6</th>\n",
       "      <td>2016-10-30</td>\n",
       "      <td>10:08:41</td>\n",
       "      <td>4</td>\n",
       "      <td>Muffin</td>\n",
       "    </tr>\n",
       "    <tr>\n",
       "      <th>7</th>\n",
       "      <td>2016-10-30</td>\n",
       "      <td>10:13:03</td>\n",
       "      <td>5</td>\n",
       "      <td>Coffee</td>\n",
       "    </tr>\n",
       "    <tr>\n",
       "      <th>8</th>\n",
       "      <td>2016-10-30</td>\n",
       "      <td>10:13:03</td>\n",
       "      <td>5</td>\n",
       "      <td>Pastry</td>\n",
       "    </tr>\n",
       "    <tr>\n",
       "      <th>9</th>\n",
       "      <td>2016-10-30</td>\n",
       "      <td>10:13:03</td>\n",
       "      <td>5</td>\n",
       "      <td>Bread</td>\n",
       "    </tr>\n",
       "  </tbody>\n",
       "</table>\n",
       "</div>"
      ],
      "text/plain": [
       "         Date      Time  Transaction           Item\n",
       "0  2016-10-30  09:58:11            1          Bread\n",
       "1  2016-10-30  10:05:34            2   Scandinavian\n",
       "2  2016-10-30  10:05:34            2   Scandinavian\n",
       "3  2016-10-30  10:07:57            3  Hot chocolate\n",
       "4  2016-10-30  10:07:57            3            Jam\n",
       "5  2016-10-30  10:07:57            3        Cookies\n",
       "6  2016-10-30  10:08:41            4         Muffin\n",
       "7  2016-10-30  10:13:03            5         Coffee\n",
       "8  2016-10-30  10:13:03            5         Pastry\n",
       "9  2016-10-30  10:13:03            5          Bread"
      ]
     },
     "execution_count": 6,
     "metadata": {},
     "output_type": "execute_result"
    }
   ],
   "source": [
    "#Create a new DataFrame without NONE as an item\n",
    "df_modified= df[df[\"Item\"]!=\"NONE\"].reset_index(drop=True)\n",
    "df_modified.head(10)"
   ]
  },
  {
   "cell_type": "markdown",
   "metadata": {
    "_uuid": "bbe11b90d6e6caa9ee7cbdac43caeb9e4d875a72"
   },
   "source": [
    "<h4>2. date_time</h4>"
   ]
  },
  {
   "cell_type": "code",
   "execution_count": 7,
   "metadata": {
    "_uuid": "aa3baf173164b2814ec04242ec9654a1700cea98"
   },
   "outputs": [
    {
     "name": "stdout",
     "output_type": "stream",
     "text": [
      "Overall information about the modified BreadBasket_DMS dataset\n",
      "<class 'pandas.core.frame.DataFrame'>\n",
      "RangeIndex: 20507 entries, 0 to 20506\n",
      "Data columns (total 3 columns):\n",
      "Transaction    20507 non-null int64\n",
      "Item           20507 non-null object\n",
      "date_time      20507 non-null datetime64[ns]\n",
      "dtypes: datetime64[ns](1), int64(1), object(1)\n",
      "memory usage: 480.7+ KB\n",
      "\n",
      "Sample of the modified BreadBasket_DMS dataset\n"
     ]
    },
    {
     "data": {
      "text/html": [
       "<div>\n",
       "<style scoped>\n",
       "    .dataframe tbody tr th:only-of-type {\n",
       "        vertical-align: middle;\n",
       "    }\n",
       "\n",
       "    .dataframe tbody tr th {\n",
       "        vertical-align: top;\n",
       "    }\n",
       "\n",
       "    .dataframe thead th {\n",
       "        text-align: right;\n",
       "    }\n",
       "</style>\n",
       "<table border=\"1\" class=\"dataframe\">\n",
       "  <thead>\n",
       "    <tr style=\"text-align: right;\">\n",
       "      <th></th>\n",
       "      <th>Transaction</th>\n",
       "      <th>Item</th>\n",
       "      <th>date_time</th>\n",
       "    </tr>\n",
       "  </thead>\n",
       "  <tbody>\n",
       "    <tr>\n",
       "      <th>0</th>\n",
       "      <td>1</td>\n",
       "      <td>Bread</td>\n",
       "      <td>2016-10-30 09:58:11</td>\n",
       "    </tr>\n",
       "    <tr>\n",
       "      <th>1</th>\n",
       "      <td>2</td>\n",
       "      <td>Scandinavian</td>\n",
       "      <td>2016-10-30 10:05:34</td>\n",
       "    </tr>\n",
       "    <tr>\n",
       "      <th>2</th>\n",
       "      <td>2</td>\n",
       "      <td>Scandinavian</td>\n",
       "      <td>2016-10-30 10:05:34</td>\n",
       "    </tr>\n",
       "    <tr>\n",
       "      <th>3</th>\n",
       "      <td>3</td>\n",
       "      <td>Hot chocolate</td>\n",
       "      <td>2016-10-30 10:07:57</td>\n",
       "    </tr>\n",
       "    <tr>\n",
       "      <th>4</th>\n",
       "      <td>3</td>\n",
       "      <td>Jam</td>\n",
       "      <td>2016-10-30 10:07:57</td>\n",
       "    </tr>\n",
       "  </tbody>\n",
       "</table>\n",
       "</div>"
      ],
      "text/plain": [
       "   Transaction           Item           date_time\n",
       "0            1          Bread 2016-10-30 09:58:11\n",
       "1            2   Scandinavian 2016-10-30 10:05:34\n",
       "2            2   Scandinavian 2016-10-30 10:05:34\n",
       "3            3  Hot chocolate 2016-10-30 10:07:57\n",
       "4            3            Jam 2016-10-30 10:07:57"
      ]
     },
     "execution_count": 7,
     "metadata": {},
     "output_type": "execute_result"
    }
   ],
   "source": [
    "#Create a new Column that stores Date and Time Together but as a Date format\n",
    "df_modified[\"date_time\"]= pd.to_datetime(df_modified[\"Date\"]+\" \"+df_modified[\"Time\"])\n",
    "#Drop Data and Time as columns\n",
    "df_modified.drop(df[[\"Date\", \"Time\"]], axis=1, inplace=True)\n",
    "#New Dataframe\n",
    "print(\"Overall information about the modified BreadBasket_DMS dataset\")\n",
    "df_modified.info()\n",
    "print(\"\\nSample of the modified BreadBasket_DMS dataset\")\n",
    "df_modified.head(5)\n"
   ]
  },
  {
   "cell_type": "markdown",
   "metadata": {
    "_uuid": "d41a2d837fe92a76ebcf35e664dbc2e29f105187"
   },
   "source": [
    "<h4>3. period_day</h4>"
   ]
  },
  {
   "cell_type": "code",
   "execution_count": 8,
   "metadata": {
    "_kg_hide-input": false,
    "_kg_hide-output": false,
    "_uuid": "04bbfe00744f89b50709a404b13b2124533bddb0"
   },
   "outputs": [
    {
     "name": "stdout",
     "output_type": "stream",
     "text": [
      "Period of Day column added\n"
     ]
    },
    {
     "data": {
      "text/html": [
       "<div>\n",
       "<style scoped>\n",
       "    .dataframe tbody tr th:only-of-type {\n",
       "        vertical-align: middle;\n",
       "    }\n",
       "\n",
       "    .dataframe tbody tr th {\n",
       "        vertical-align: top;\n",
       "    }\n",
       "\n",
       "    .dataframe thead th {\n",
       "        text-align: right;\n",
       "    }\n",
       "</style>\n",
       "<table border=\"1\" class=\"dataframe\">\n",
       "  <thead>\n",
       "    <tr style=\"text-align: right;\">\n",
       "      <th></th>\n",
       "      <th>Transaction</th>\n",
       "      <th>Item</th>\n",
       "      <th>date_time</th>\n",
       "      <th>period_day</th>\n",
       "    </tr>\n",
       "  </thead>\n",
       "  <tbody>\n",
       "    <tr>\n",
       "      <th>0</th>\n",
       "      <td>1</td>\n",
       "      <td>Bread</td>\n",
       "      <td>2016-10-30 09:58:11</td>\n",
       "      <td>morning</td>\n",
       "    </tr>\n",
       "    <tr>\n",
       "      <th>1</th>\n",
       "      <td>2</td>\n",
       "      <td>Scandinavian</td>\n",
       "      <td>2016-10-30 10:05:34</td>\n",
       "      <td>morning</td>\n",
       "    </tr>\n",
       "    <tr>\n",
       "      <th>2</th>\n",
       "      <td>2</td>\n",
       "      <td>Scandinavian</td>\n",
       "      <td>2016-10-30 10:05:34</td>\n",
       "      <td>morning</td>\n",
       "    </tr>\n",
       "    <tr>\n",
       "      <th>3</th>\n",
       "      <td>3</td>\n",
       "      <td>Hot chocolate</td>\n",
       "      <td>2016-10-30 10:07:57</td>\n",
       "      <td>morning</td>\n",
       "    </tr>\n",
       "    <tr>\n",
       "      <th>4</th>\n",
       "      <td>3</td>\n",
       "      <td>Jam</td>\n",
       "      <td>2016-10-30 10:07:57</td>\n",
       "      <td>morning</td>\n",
       "    </tr>\n",
       "    <tr>\n",
       "      <th>5</th>\n",
       "      <td>3</td>\n",
       "      <td>Cookies</td>\n",
       "      <td>2016-10-30 10:07:57</td>\n",
       "      <td>morning</td>\n",
       "    </tr>\n",
       "    <tr>\n",
       "      <th>6</th>\n",
       "      <td>4</td>\n",
       "      <td>Muffin</td>\n",
       "      <td>2016-10-30 10:08:41</td>\n",
       "      <td>morning</td>\n",
       "    </tr>\n",
       "    <tr>\n",
       "      <th>7</th>\n",
       "      <td>5</td>\n",
       "      <td>Coffee</td>\n",
       "      <td>2016-10-30 10:13:03</td>\n",
       "      <td>morning</td>\n",
       "    </tr>\n",
       "    <tr>\n",
       "      <th>8</th>\n",
       "      <td>5</td>\n",
       "      <td>Pastry</td>\n",
       "      <td>2016-10-30 10:13:03</td>\n",
       "      <td>morning</td>\n",
       "    </tr>\n",
       "    <tr>\n",
       "      <th>9</th>\n",
       "      <td>5</td>\n",
       "      <td>Bread</td>\n",
       "      <td>2016-10-30 10:13:03</td>\n",
       "      <td>morning</td>\n",
       "    </tr>\n",
       "  </tbody>\n",
       "</table>\n",
       "</div>"
      ],
      "text/plain": [
       "   Transaction           Item           date_time period_day\n",
       "0            1          Bread 2016-10-30 09:58:11    morning\n",
       "1            2   Scandinavian 2016-10-30 10:05:34    morning\n",
       "2            2   Scandinavian 2016-10-30 10:05:34    morning\n",
       "3            3  Hot chocolate 2016-10-30 10:07:57    morning\n",
       "4            3            Jam 2016-10-30 10:07:57    morning\n",
       "5            3        Cookies 2016-10-30 10:07:57    morning\n",
       "6            4         Muffin 2016-10-30 10:08:41    morning\n",
       "7            5         Coffee 2016-10-30 10:13:03    morning\n",
       "8            5         Pastry 2016-10-30 10:13:03    morning\n",
       "9            5          Bread 2016-10-30 10:13:03    morning"
      ]
     },
     "execution_count": 8,
     "metadata": {},
     "output_type": "execute_result"
    }
   ],
   "source": [
    "# addition of period time column that has whether the time is in the morning, afternoon, everning or night\n",
    "# morning hours bellow 12:00\n",
    "# afternoon hours between 12:00 and 17:00\n",
    "# everning hours between 17:00 and 21:00\n",
    "# night hours above 21:00\n",
    "df_modified[\"period_day\"]=np.nan\n",
    "#Morning\n",
    "morning_mask =(df_modified[\"date_time\"].dt.hour>=1)&(df_modified[\"date_time\"].dt.hour<12)\n",
    "df_modified.loc[morning_mask,\"period_day\"] =\"morning\"\n",
    "#Afternoon\n",
    "afternoon_mask = (df_modified[\"date_time\"].dt.hour>=12)&(df_modified[\"date_time\"].dt.hour<17)\n",
    "df_modified.loc[afternoon_mask,\"period_day\"] =\"afternoon\"\n",
    "#Evening\n",
    "evening_mask = (df_modified[\"date_time\"].dt.hour>=17)&(df_modified[\"date_time\"].dt.hour<21)\n",
    "df_modified.loc[evening_mask,\"period_day\"] =\"evening\"\n",
    "#Night\n",
    "night_mask = (df_modified[\"date_time\"].dt.hour>=21)&(df_modified[\"date_time\"].dt.hour<=24)\n",
    "df_modified.loc[night_mask,\"period_day\"] =\"night\"\n",
    "#df_modified.loc[df_modified[\"Date/Time\"].dt.hour<=12,\"period_time\"] =\"night\"\n",
    "print(\"Period of Day column added\")\n",
    "df_modified.head(10)\n",
    "#print(df_modified.loc[df_modified[\"period_time\"]==\"morning\"])"
   ]
  },
  {
   "cell_type": "markdown",
   "metadata": {
    "_uuid": "5c2b5aeb95caf8876ea7a5116ab7151a81965d07"
   },
   "source": [
    "<h4>4. weekday_weekend and weekday</h4>"
   ]
  },
  {
   "cell_type": "code",
   "execution_count": 9,
   "metadata": {
    "_uuid": "79910729dab25dcd58be0121b75e6d74fb942965"
   },
   "outputs": [
    {
     "name": "stdout",
     "output_type": "stream",
     "text": [
      "Weekday or Weekdend column added\n"
     ]
    },
    {
     "data": {
      "text/html": [
       "<div>\n",
       "<style scoped>\n",
       "    .dataframe tbody tr th:only-of-type {\n",
       "        vertical-align: middle;\n",
       "    }\n",
       "\n",
       "    .dataframe tbody tr th {\n",
       "        vertical-align: top;\n",
       "    }\n",
       "\n",
       "    .dataframe thead th {\n",
       "        text-align: right;\n",
       "    }\n",
       "</style>\n",
       "<table border=\"1\" class=\"dataframe\">\n",
       "  <thead>\n",
       "    <tr style=\"text-align: right;\">\n",
       "      <th></th>\n",
       "      <th>Transaction</th>\n",
       "      <th>Item</th>\n",
       "      <th>date_time</th>\n",
       "      <th>period_day</th>\n",
       "      <th>weekday_weekend</th>\n",
       "      <th>weekday</th>\n",
       "    </tr>\n",
       "  </thead>\n",
       "  <tbody>\n",
       "    <tr>\n",
       "      <th>0</th>\n",
       "      <td>1</td>\n",
       "      <td>Bread</td>\n",
       "      <td>2016-10-30 09:58:11</td>\n",
       "      <td>morning</td>\n",
       "      <td>weekend</td>\n",
       "      <td>6</td>\n",
       "    </tr>\n",
       "    <tr>\n",
       "      <th>1</th>\n",
       "      <td>2</td>\n",
       "      <td>Scandinavian</td>\n",
       "      <td>2016-10-30 10:05:34</td>\n",
       "      <td>morning</td>\n",
       "      <td>weekend</td>\n",
       "      <td>6</td>\n",
       "    </tr>\n",
       "    <tr>\n",
       "      <th>2</th>\n",
       "      <td>2</td>\n",
       "      <td>Scandinavian</td>\n",
       "      <td>2016-10-30 10:05:34</td>\n",
       "      <td>morning</td>\n",
       "      <td>weekend</td>\n",
       "      <td>6</td>\n",
       "    </tr>\n",
       "    <tr>\n",
       "      <th>3</th>\n",
       "      <td>3</td>\n",
       "      <td>Hot chocolate</td>\n",
       "      <td>2016-10-30 10:07:57</td>\n",
       "      <td>morning</td>\n",
       "      <td>weekend</td>\n",
       "      <td>6</td>\n",
       "    </tr>\n",
       "    <tr>\n",
       "      <th>4</th>\n",
       "      <td>3</td>\n",
       "      <td>Jam</td>\n",
       "      <td>2016-10-30 10:07:57</td>\n",
       "      <td>morning</td>\n",
       "      <td>weekend</td>\n",
       "      <td>6</td>\n",
       "    </tr>\n",
       "    <tr>\n",
       "      <th>5</th>\n",
       "      <td>3</td>\n",
       "      <td>Cookies</td>\n",
       "      <td>2016-10-30 10:07:57</td>\n",
       "      <td>morning</td>\n",
       "      <td>weekend</td>\n",
       "      <td>6</td>\n",
       "    </tr>\n",
       "    <tr>\n",
       "      <th>6</th>\n",
       "      <td>4</td>\n",
       "      <td>Muffin</td>\n",
       "      <td>2016-10-30 10:08:41</td>\n",
       "      <td>morning</td>\n",
       "      <td>weekend</td>\n",
       "      <td>6</td>\n",
       "    </tr>\n",
       "    <tr>\n",
       "      <th>7</th>\n",
       "      <td>5</td>\n",
       "      <td>Coffee</td>\n",
       "      <td>2016-10-30 10:13:03</td>\n",
       "      <td>morning</td>\n",
       "      <td>weekend</td>\n",
       "      <td>6</td>\n",
       "    </tr>\n",
       "    <tr>\n",
       "      <th>8</th>\n",
       "      <td>5</td>\n",
       "      <td>Pastry</td>\n",
       "      <td>2016-10-30 10:13:03</td>\n",
       "      <td>morning</td>\n",
       "      <td>weekend</td>\n",
       "      <td>6</td>\n",
       "    </tr>\n",
       "    <tr>\n",
       "      <th>9</th>\n",
       "      <td>5</td>\n",
       "      <td>Bread</td>\n",
       "      <td>2016-10-30 10:13:03</td>\n",
       "      <td>morning</td>\n",
       "      <td>weekend</td>\n",
       "      <td>6</td>\n",
       "    </tr>\n",
       "  </tbody>\n",
       "</table>\n",
       "</div>"
      ],
      "text/plain": [
       "   Transaction           Item           date_time period_day weekday_weekend  \\\n",
       "0            1          Bread 2016-10-30 09:58:11    morning         weekend   \n",
       "1            2   Scandinavian 2016-10-30 10:05:34    morning         weekend   \n",
       "2            2   Scandinavian 2016-10-30 10:05:34    morning         weekend   \n",
       "3            3  Hot chocolate 2016-10-30 10:07:57    morning         weekend   \n",
       "4            3            Jam 2016-10-30 10:07:57    morning         weekend   \n",
       "5            3        Cookies 2016-10-30 10:07:57    morning         weekend   \n",
       "6            4         Muffin 2016-10-30 10:08:41    morning         weekend   \n",
       "7            5         Coffee 2016-10-30 10:13:03    morning         weekend   \n",
       "8            5         Pastry 2016-10-30 10:13:03    morning         weekend   \n",
       "9            5          Bread 2016-10-30 10:13:03    morning         weekend   \n",
       "\n",
       "   weekday  \n",
       "0        6  \n",
       "1        6  \n",
       "2        6  \n",
       "3        6  \n",
       "4        6  \n",
       "5        6  \n",
       "6        6  \n",
       "7        6  \n",
       "8        6  \n",
       "9        6  "
      ]
     },
     "execution_count": 9,
     "metadata": {},
     "output_type": "execute_result"
    }
   ],
   "source": [
    "# Addition of column Weekday/Weekend, which shows whether the day it is within the Weekday or Weekend\n",
    "df_modified[\"weekday_weekend\"]=np.nan\n",
    "# We add the number of week value in a column named weekday\n",
    "df_modified[\"weekday\"]= df_modified[\"date_time\"].dt.dayofweek\n",
    "# We create a mask with the index of parameters applied to the column Weekday\n",
    "# For example: Monday is 0 and Saturday is 5\n",
    "mask_weekday = (df_modified[\"weekday\"]>=0)&(df_modified[\"weekday\"]<=4)\n",
    "df_modified.loc[mask_weekday,\"weekday_weekend\"] =\"weekday\"\n",
    "#We create a mask with the index of parameters applied to the column Weekend\n",
    "mask_weekday = (df_modified[\"weekday\"]>=5)&(df_modified[\"weekday\"]<=6)\n",
    "df_modified.loc[mask_weekday,\"weekday_weekend\"] =\"weekend\"\n",
    "# We drop the week of day column \"weekday\"\n",
    "#df_modified.drop('weekday', axis=1, inplace=True)\n",
    "print(\"Weekday or Weekdend column added\")\n",
    "df_modified.head(10)"
   ]
  },
  {
   "cell_type": "code",
   "execution_count": 10,
   "metadata": {},
   "outputs": [],
   "source": [
    "path = \"./dataset/BreadBasket_DMS_modified.csv\"\n",
    "df_modified.to_csv(path,index=False)"
   ]
  },
  {
   "cell_type": "markdown",
   "metadata": {
    "_uuid": "52a3953242754009648240ee69f2967bc811a2f9"
   },
   "source": [
    "<h2><a class=\"anchor\" id=\"quality_visualization\">Analysis and Visualization of Data</a></h2>\n",
    "<h3>Transactions</h3>"
   ]
  },
  {
   "cell_type": "markdown",
   "metadata": {},
   "source": [
    "<p>The data allows us to see several areas of items been sold. Therefore the first step of an exploratory data visualisation of the Items. We create a new data frame that has the number of transactions made per item in a weekday.</p>"
   ]
  },
  {
   "cell_type": "code",
   "execution_count": 11,
   "metadata": {
    "_uuid": "f4ac21324b92ef02770a4f57f6a759f2e7c7bf5f"
   },
   "outputs": [
    {
     "data": {
      "text/html": [
       "<div>\n",
       "<style scoped>\n",
       "    .dataframe tbody tr th:only-of-type {\n",
       "        vertical-align: middle;\n",
       "    }\n",
       "\n",
       "    .dataframe tbody tr th {\n",
       "        vertical-align: top;\n",
       "    }\n",
       "\n",
       "    .dataframe thead th {\n",
       "        text-align: right;\n",
       "    }\n",
       "</style>\n",
       "<table border=\"1\" class=\"dataframe\">\n",
       "  <thead>\n",
       "    <tr style=\"text-align: right;\">\n",
       "      <th></th>\n",
       "      <th>weekday</th>\n",
       "      <th>Item</th>\n",
       "      <th>Transaction</th>\n",
       "    </tr>\n",
       "  </thead>\n",
       "  <tbody>\n",
       "    <tr>\n",
       "      <th>0</th>\n",
       "      <td>0</td>\n",
       "      <td>Afternoon with the baker</td>\n",
       "      <td>5</td>\n",
       "    </tr>\n",
       "    <tr>\n",
       "      <th>1</th>\n",
       "      <td>0</td>\n",
       "      <td>Alfajores</td>\n",
       "      <td>32</td>\n",
       "    </tr>\n",
       "    <tr>\n",
       "      <th>2</th>\n",
       "      <td>0</td>\n",
       "      <td>Art Tray</td>\n",
       "      <td>2</td>\n",
       "    </tr>\n",
       "    <tr>\n",
       "      <th>3</th>\n",
       "      <td>0</td>\n",
       "      <td>Baguette</td>\n",
       "      <td>10</td>\n",
       "    </tr>\n",
       "    <tr>\n",
       "      <th>4</th>\n",
       "      <td>0</td>\n",
       "      <td>Bakewell</td>\n",
       "      <td>8</td>\n",
       "    </tr>\n",
       "  </tbody>\n",
       "</table>\n",
       "</div>"
      ],
      "text/plain": [
       "   weekday                      Item  Transaction\n",
       "0        0  Afternoon with the baker            5\n",
       "1        0                 Alfajores           32\n",
       "2        0                  Art Tray            2\n",
       "3        0                  Baguette           10\n",
       "4        0                  Bakewell            8"
      ]
     },
     "execution_count": 11,
     "metadata": {},
     "output_type": "execute_result"
    }
   ],
   "source": [
    "# Creating a new DataFrame that contains the count of each item per transaction in a specific day\n",
    "df_Item_by_weekday_count = df_modified.groupby([\"weekday\",\"Item\"])[\"Transaction\"].count()\n",
    "df_Item_by_weekday_count=df_Item_by_weekday_count.reset_index()\n",
    "df_Item_by_weekday_count.head(5)\n"
   ]
  },
  {
   "cell_type": "code",
   "execution_count": 12,
   "metadata": {},
   "outputs": [
    {
     "name": "stdout",
     "output_type": "stream",
     "text": [
      "<class 'pandas.core.frame.DataFrame'>\n",
      "RangeIndex: 455 entries, 0 to 454\n",
      "Data columns (total 3 columns):\n",
      "weekday        455 non-null int64\n",
      "Item           455 non-null object\n",
      "Transaction    455 non-null int64\n",
      "dtypes: int64(2), object(1)\n",
      "memory usage: 10.7+ KB\n"
     ]
    }
   ],
   "source": [
    "#General Information of the new DataFrame\n",
    "df_Item_by_weekday_count.info()"
   ]
  },
  {
   "cell_type": "markdown",
   "metadata": {},
   "source": [
    "<p>The new data frame has 455 entries, with three columns:</p>\n",
    "<ul>\n",
    "    <li>Weekday</li>\n",
    "    <li>Item</li>\n",
    "    <li>Transaction</li>\n",
    "</ul>\n",
    "\n",
    "<p>We continue by plotting the total number of transactions made per weekday.</p>"
   ]
  },
  {
   "cell_type": "code",
   "execution_count": 13,
   "metadata": {
    "_uuid": "de08ed61d7739491d9820e79ce9fec61e6cf5bb5"
   },
   "outputs": [
    {
     "data": {
      "image/png": "[encoded data removed]",
      "text/plain": [
       "<Figure size 648x216 with 1 Axes>"
      ]
     },
     "metadata": {
      "needs_background": "light"
     },
     "output_type": "display_data"
    }
   ],
   "source": [
    "# We plot the count of transactions per day\n",
    "plt.figure( figsize = (9,3))\n",
    "name_day = [\"Monday\",\"Tuesday\",\"Wednesday\",\"Thrusday\",\"Friday\",\"Saturday\",\"Sunday\"]\n",
    "plt.bar(df_Item_by_weekday_count[\"weekday\"],df_Item_by_weekday_count[\"Transaction\"])\n",
    "plt.xlabel(\"Day of the Week\")\n",
    "plt.ylabel(\"Amount of transactions\")\n",
    "plt.xticks([0,1,2,3,4,5,6],name_day, fontsize=9,rotation=90)\n",
    "plt.savefig('./graphs/total_amount-transaction-vs-day.png',bbox_inches='tight', dpi=1500)\n",
    "plt.show()"
   ]
  },
  {
   "cell_type": "markdown",
   "metadata": {},
   "source": [
    "<p>The graphs presented shows that Saturday had the maximum total number of transactions made between the 30 of October 2016 to 4 of April 2017. Followed by Friday and Sunday. Wednesday had the lowest total number of transactions made between the 30 of October 2016 to 4 of April 2017.</p>\n",
    "\n",
    "<p>We continue this analysis by exploring the total number of transactions made per the hour of the day, in a 24h format.</p>\n",
    "\n",
    "<p>For this analysis, we will create a new data frame that stores the total number of transactions made per item on a specific hour.</p>"
   ]
  },
  {
   "cell_type": "code",
   "execution_count": 14,
   "metadata": {},
   "outputs": [
    {
     "data": {
      "text/html": [
       "<div>\n",
       "<style scoped>\n",
       "    .dataframe tbody tr th:only-of-type {\n",
       "        vertical-align: middle;\n",
       "    }\n",
       "\n",
       "    .dataframe tbody tr th {\n",
       "        vertical-align: top;\n",
       "    }\n",
       "\n",
       "    .dataframe thead th {\n",
       "        text-align: right;\n",
       "    }\n",
       "</style>\n",
       "<table border=\"1\" class=\"dataframe\">\n",
       "  <thead>\n",
       "    <tr style=\"text-align: right;\">\n",
       "      <th></th>\n",
       "      <th>date_time</th>\n",
       "      <th>Item</th>\n",
       "      <th>Transaction</th>\n",
       "    </tr>\n",
       "  </thead>\n",
       "  <tbody>\n",
       "    <tr>\n",
       "      <th>0</th>\n",
       "      <td>1</td>\n",
       "      <td>Bread</td>\n",
       "      <td>1</td>\n",
       "    </tr>\n",
       "    <tr>\n",
       "      <th>1</th>\n",
       "      <td>7</td>\n",
       "      <td>Bread</td>\n",
       "      <td>2</td>\n",
       "    </tr>\n",
       "    <tr>\n",
       "      <th>2</th>\n",
       "      <td>7</td>\n",
       "      <td>Coffee</td>\n",
       "      <td>13</td>\n",
       "    </tr>\n",
       "    <tr>\n",
       "      <th>3</th>\n",
       "      <td>7</td>\n",
       "      <td>Medialuna</td>\n",
       "      <td>6</td>\n",
       "    </tr>\n",
       "    <tr>\n",
       "      <th>4</th>\n",
       "      <td>7</td>\n",
       "      <td>Pastry</td>\n",
       "      <td>2</td>\n",
       "    </tr>\n",
       "  </tbody>\n",
       "</table>\n",
       "</div>"
      ],
      "text/plain": [
       "   date_time       Item  Transaction\n",
       "0          1      Bread            1\n",
       "1          7      Bread            2\n",
       "2          7     Coffee           13\n",
       "3          7  Medialuna            6\n",
       "4          7     Pastry            2"
      ]
     },
     "execution_count": 14,
     "metadata": {},
     "output_type": "execute_result"
    }
   ],
   "source": [
    "# We create a new DataFrame that contains the amount of transactions per time in each individual time of day\n",
    "df_Item_by_hour_count = df_modified.groupby([df_modified[\"date_time\"].dt.hour,\"Item\"])[\"Transaction\"].count()\n",
    "df_Item_by_hour_count = df_Item_by_hour_count.reset_index()\n",
    "df_times = df_Item_by_hour_count[\"date_time\"].unique()\n",
    "df_Item_by_hour_count.head(5)"
   ]
  },
  {
   "cell_type": "code",
   "execution_count": 15,
   "metadata": {},
   "outputs": [
    {
     "data": {
      "image/png": "[encoded data removed]",
      "text/plain": [
       "<Figure size 648x216 with 1 Axes>"
      ]
     },
     "metadata": {
      "needs_background": "light"
     },
     "output_type": "display_data"
    }
   ],
   "source": [
    "# We plot the total number of transactions per hour of the day\n",
    "plt.figure(figsize = (9,3))\n",
    "plt.bar(df_Item_by_hour_count[\"date_time\"],df_Item_by_hour_count[\"Transaction\"])\n",
    "plt.xlabel(\"Time of Day\")\n",
    "plt.ylabel(\"Amount of transactions\")\n",
    "plt.xticks(df_times,fontsize=9,rotation=90)\n",
    "plt.savefig('./graphs/total_amount-transaction-vs-time.png',bbox_inches='tight', dpi=1500)\n",
    "plt.show()"
   ]
  },
  {
   "cell_type": "markdown",
   "metadata": {},
   "source": [
    "<p>The graph shows that between 11:00 to 11:59 the maximum number of total transactions made are made. The next hours with the total number of transactions is between 10:00 to 10:59 and 12:00 to 12:59. This dataset has one transaction performed at 1:00, which is the hour with the lowest total number of transactions made. If we consider standard office hours (between 8:00 to 18:00 ), the lowest total number of transactions made are between 17:00 and 17:59.\n",
    "</p>\n",
    "\n",
    "<p>We continue this analysis by creating a new data frame that stores the total number of transactions made per item on a period of the day.</p>"
   ]
  },
  {
   "cell_type": "code",
   "execution_count": 16,
   "metadata": {},
   "outputs": [
    {
     "data": {
      "text/html": [
       "<div>\n",
       "<style scoped>\n",
       "    .dataframe tbody tr th:only-of-type {\n",
       "        vertical-align: middle;\n",
       "    }\n",
       "\n",
       "    .dataframe tbody tr th {\n",
       "        vertical-align: top;\n",
       "    }\n",
       "\n",
       "    .dataframe thead th {\n",
       "        text-align: right;\n",
       "    }\n",
       "</style>\n",
       "<table border=\"1\" class=\"dataframe\">\n",
       "  <thead>\n",
       "    <tr style=\"text-align: right;\">\n",
       "      <th></th>\n",
       "      <th>period_day</th>\n",
       "      <th>Item</th>\n",
       "      <th>Transaction</th>\n",
       "    </tr>\n",
       "  </thead>\n",
       "  <tbody>\n",
       "    <tr>\n",
       "      <th>0</th>\n",
       "      <td>afternoon</td>\n",
       "      <td>Afternoon with the baker</td>\n",
       "      <td>19</td>\n",
       "    </tr>\n",
       "    <tr>\n",
       "      <th>1</th>\n",
       "      <td>afternoon</td>\n",
       "      <td>Alfajores</td>\n",
       "      <td>245</td>\n",
       "    </tr>\n",
       "    <tr>\n",
       "      <th>2</th>\n",
       "      <td>afternoon</td>\n",
       "      <td>Argentina Night</td>\n",
       "      <td>3</td>\n",
       "    </tr>\n",
       "    <tr>\n",
       "      <th>3</th>\n",
       "      <td>afternoon</td>\n",
       "      <td>Art Tray</td>\n",
       "      <td>31</td>\n",
       "    </tr>\n",
       "    <tr>\n",
       "      <th>4</th>\n",
       "      <td>afternoon</td>\n",
       "      <td>Bacon</td>\n",
       "      <td>1</td>\n",
       "    </tr>\n",
       "  </tbody>\n",
       "</table>\n",
       "</div>"
      ],
      "text/plain": [
       "  period_day                      Item  Transaction\n",
       "0  afternoon  Afternoon with the baker           19\n",
       "1  afternoon                 Alfajores          245\n",
       "2  afternoon           Argentina Night            3\n",
       "3  afternoon                  Art Tray           31\n",
       "4  afternoon                     Bacon            1"
      ]
     },
     "execution_count": 16,
     "metadata": {},
     "output_type": "execute_result"
    }
   ],
   "source": [
    "# We create a new DataFrame that contains the amount of transactions per time in each individual period of day\n",
    "df_Item_by_p_day_count = df_modified.groupby([\"period_day\",\"Item\"])[\"Transaction\"].count()\n",
    "df_Item_by_p_day_count = df_Item_by_p_day_count.reset_index()\n",
    "df_Item_by_p_day_count.head(5)"
   ]
  },
  {
   "cell_type": "code",
   "execution_count": 17,
   "metadata": {},
   "outputs": [
    {
     "data": {
      "image/png": "[encoded data removed]",
      "text/plain": [
       "<Figure size 432x288 with 1 Axes>"
      ]
     },
     "metadata": {
      "needs_background": "light"
     },
     "output_type": "display_data"
    }
   ],
   "source": [
    "# We plot the total number of transactions per period of day\n",
    "plt.bar(df_Item_by_p_day_count[\"period_day\"],df_Item_by_p_day_count[\"Transaction\"])\n",
    "plt.xlabel(\"Period of Day\")\n",
    "plt.ylabel(\"Amount of transactions\")\n",
    "plt.xticks(fontsize=9)\n",
    "plt.savefig('./graphs/total_amount-transaction-vs-period_day.png',bbox_inches='tight', dpi=1500)\n",
    "plt.show()"
   ]
  },
  {
   "cell_type": "markdown",
   "metadata": {},
   "source": [
    "<p>The graph shows that the afternoon is part of the day that has the most significant total transactions. Morning is the second part of the day that has the second most significant total transactions.</p>\n",
    "\n",
    "<p>We continue this analysis by exploring the top 20 items with the total transactions made.</p>"
   ]
  },
  {
   "cell_type": "code",
   "execution_count": 18,
   "metadata": {},
   "outputs": [
    {
     "data": {
      "image/png": "[encoded data removed]",
      "text/plain": [
       "<Figure size 648x288 with 1 Axes>"
      ]
     },
     "metadata": {
      "needs_background": "light"
     },
     "output_type": "display_data"
    }
   ],
   "source": [
    "# We filter the amount of transactions for the top 20 items\n",
    "df_Item_by_p_day_count= df_Item_by_p_day_count.sort_values(by=[\"Transaction\"],ascending=False).reset_index(drop=True)\n",
    "top20_products = df_Item_by_p_day_count[0:20]\n",
    "plt.figure( figsize = (9,4))\n",
    "plt.bar(top20_products[\"Item\"],top20_products[\"Transaction\"])\n",
    "plt.xlabel(\"Item Purchased\")\n",
    "plt.ylabel(\"Amount of transactions\")\n",
    "plt.xticks(fontsize=9, rotation=90)\n",
    "plt.savefig('./graphs/total_amount-transaction-vs-item.png',bbox_inches='tight', dpi=1500)\n",
    "plt.show()"
   ]
  },
  {
   "cell_type": "markdown",
   "metadata": {},
   "source": [
    "<p>We can see that Coffee, Bread and Tea are the items with the most significant total transactions made.</p>\n",
    "    \n",
    "<p>We sum up the analysis made so far with the following Tableau Story. In the Tableau Story, only items with over 100000 of total transactions are shown. Also, The total number of transactions over the months of each year and the time of day are shown. Furthermore, specific items can be selected in order to see the total number of transactions made over the months of each year and the time of day.</p>"
   ]
  },
  {
   "cell_type": "code",
   "execution_count": 19,
   "metadata": {
    "scrolled": true
   },
   "outputs": [
    {
     "data": {
      "text/html": [
       "<script>\n",
       "code_show=true; \n",
       "function code_toggle() {\n",
       " if (code_show){\n",
       " $('div.input').hide();\n",
       " } else {\n",
       " $('div.input').show();\n",
       " }\n",
       " code_show = !code_show\n",
       "} \n",
       "$( document ).ready(code_toggle);\n",
       "</script>\n",
       "<form action=\"javascript:code_toggle()\"><input type=\"submit\" value=\"Click here to toggle on/off the raw code.\"></form>\n",
       "<div class='tableauPlaceholder' id='viz1540493334733' style='position: relative'><noscript><a href='#'><img alt=' ' src='https:&#47;&#47;public.tableau.com&#47;static&#47;images&#47;Br&#47;BreadBasketAStoryofSales&#47;StoryItemsoverTime&#47;1_rss.png' style='border: none' /></a></noscript><object class='tableauViz'  style='display:none;'><param name='host_url' value='https%3A%2F%2Fpublic.tableau.com%2F' /> <param name='embed_code_version' value='3' /> <param name='site_root' value='' /><param name='name' value='BreadBasketAStoryofSales&#47;StoryItemsoverTime' /><param name='tabs' value='no' /><param name='toolbar' value='yes' /><param name='static_image' value='https:&#47;&#47;public.tableau.com&#47;static&#47;images&#47;Br&#47;BreadBasketAStoryofSales&#47;StoryItemsoverTime&#47;1.png' /> <param name='animate_transition' value='yes' /><param name='display_static_image' value='yes' /><param name='display_spinner' value='yes' /><param name='display_overlay' value='yes' /><param name='display_count' value='yes' /></object></div>                <script type='text/javascript'>                    var divElement = document.getElementById('viz1540493334733');                    var vizElement = divElement.getElementsByTagName('object')[0];                    vizElement.style.width='1016px';vizElement.style.height='991px';                    var scriptElement = document.createElement('script');                    scriptElement.src = 'https://public.tableau.com/javascripts/api/viz_v1.js';                    vizElement.parentNode.insertBefore(scriptElement, vizElement);                </script>"
      ],
      "text/plain": [
       "<IPython.core.display.HTML object>"
      ]
     },
     "execution_count": 19,
     "metadata": {},
     "output_type": "execute_result"
    }
   ],
   "source": [
    "from IPython.display import HTML\n",
    "\n",
    "HTML(\n",
    "'''<script>\n",
    "code_show=true; \n",
    "function code_toggle() {\n",
    " if (code_show){\n",
    " $('div.input').hide();\n",
    " } else {\n",
    " $('div.input').show();\n",
    " }\n",
    " code_show = !code_show\n",
    "} \n",
    "$( document ).ready(code_toggle);\n",
    "</script>\n",
    "<form action=\"javascript:code_toggle()\"><input type=\"submit\" value=\"Click here to toggle on/off the raw code.\"></form>\n",
    "<div class='tableauPlaceholder' id='viz1540493334733' style='position: relative'><noscript><a href='#'><img alt=' ' src='https:&#47;&#47;public.tableau.com&#47;static&#47;images&#47;Br&#47;BreadBasketAStoryofSales&#47;StoryItemsoverTime&#47;1_rss.png' style='border: none' /></a></noscript><object class='tableauViz'  style='display:none;'><param name='host_url' value='https%3A%2F%2Fpublic.tableau.com%2F' /> <param name='embed_code_version' value='3' /> <param name='site_root' value='' /><param name='name' value='BreadBasketAStoryofSales&#47;StoryItemsoverTime' /><param name='tabs' value='no' /><param name='toolbar' value='yes' /><param name='static_image' value='https:&#47;&#47;public.tableau.com&#47;static&#47;images&#47;Br&#47;BreadBasketAStoryofSales&#47;StoryItemsoverTime&#47;1.png' /> <param name='animate_transition' value='yes' /><param name='display_static_image' value='yes' /><param name='display_spinner' value='yes' /><param name='display_overlay' value='yes' /><param name='display_count' value='yes' /></object></div>                <script type='text/javascript'>                    var divElement = document.getElementById('viz1540493334733');                    var vizElement = divElement.getElementsByTagName('object')[0];                    vizElement.style.width='1016px';vizElement.style.height='991px';                    var scriptElement = document.createElement('script');                    scriptElement.src = 'https://public.tableau.com/javascripts/api/viz_v1.js';                    vizElement.parentNode.insertBefore(scriptElement, vizElement);                </script>''')"
   ]
  },
  {
   "cell_type": "markdown",
   "metadata": {},
   "source": [
    "<h3>Temperature Factor</h3>\n",
    "\n",
    "<p>We have explored the transactions made at a different hour of the day, Month and how much it varies in total per item sold. We now explore purchasing patterns made depending on the temperature of the day and hour. All the data was taken from the Edinburgh Airport in the <a href=\"https://www.wunderground.com/weather/gb/edinburgh?cm_ven=localwx_today\"> Weather Underground Website</a>.</p>\n",
    "\n",
    "<p>All the hours per day temperature data for the station story in the <code>daily_temperatures.csv</code> file. This data set has 7524 entries, with the following columns:</p>\n",
    "<ul>\n",
    "    <li>date</li>\n",
    "    <li>time</li>\n",
    "    <li>temperature (F)</li>\n",
    "    <li>dew_point (F)</li>\n",
    "    <li>humidity (%)</li>\n",
    "    <li>wind_</li>\n",
    "    <li>wind_speed (mph)</li>\n",
    "    <li>wind_gust (mph)</li>\n",
    "    <li>pressure (in)</li>\n",
    "    <li>precipitation (in)</li>\n",
    "    <li>precipitation_accumulation (in)</li>\n",
    "    <li>condition</li>\n",
    "</ul>"
   ]
  },
  {
   "cell_type": "code",
   "execution_count": 73,
   "metadata": {},
   "outputs": [
    {
     "name": "stdout",
     "output_type": "stream",
     "text": [
      "<class 'pandas.core.frame.DataFrame'>\n",
      "RangeIndex: 7524 entries, 0 to 7523\n",
      "Data columns (total 12 columns):\n",
      "date                          7524 non-null object\n",
      "time                          7524 non-null object\n",
      "temperature                   7524 non-null object\n",
      "dew_point                     7524 non-null object\n",
      "humidity                      7524 non-null object\n",
      "wind                          7524 non-null object\n",
      "wind_speed                    7524 non-null object\n",
      "wind_gust                     7524 non-null object\n",
      "pressure                      7524 non-null object\n",
      "precipitation                 7524 non-null object\n",
      "precipitation_accumulation    7524 non-null object\n",
      "condition                     7380 non-null object\n",
      "dtypes: object(12)\n",
      "memory usage: 705.5+ KB\n"
     ]
    }
   ],
   "source": [
    "#import temperature\n",
    "df_daily_temperature = pd.read_csv(\"./dataset/daily_temperatures.csv\")\n",
    "df_daily_temperature.info()"
   ]
  },
  {
   "cell_type": "code",
   "execution_count": 74,
   "metadata": {},
   "outputs": [
    {
     "data": {
      "text/html": [
       "<div>\n",
       "<style scoped>\n",
       "    .dataframe tbody tr th:only-of-type {\n",
       "        vertical-align: middle;\n",
       "    }\n",
       "\n",
       "    .dataframe tbody tr th {\n",
       "        vertical-align: top;\n",
       "    }\n",
       "\n",
       "    .dataframe thead th {\n",
       "        text-align: right;\n",
       "    }\n",
       "</style>\n",
       "<table border=\"1\" class=\"dataframe\">\n",
       "  <thead>\n",
       "    <tr style=\"text-align: right;\">\n",
       "      <th></th>\n",
       "      <th>date</th>\n",
       "      <th>time</th>\n",
       "      <th>temperature</th>\n",
       "      <th>dew_point</th>\n",
       "      <th>humidity</th>\n",
       "      <th>wind</th>\n",
       "      <th>wind_speed</th>\n",
       "      <th>wind_gust</th>\n",
       "      <th>pressure</th>\n",
       "      <th>precipitation</th>\n",
       "      <th>precipitation_accumulation</th>\n",
       "      <th>condition</th>\n",
       "    </tr>\n",
       "  </thead>\n",
       "  <tbody>\n",
       "    <tr>\n",
       "      <th>0</th>\n",
       "      <td>30/10/2016</td>\n",
       "      <td>12:20 AM</td>\n",
       "      <td>52 F</td>\n",
       "      <td>48 F</td>\n",
       "      <td>88%</td>\n",
       "      <td>SW</td>\n",
       "      <td>7 mph</td>\n",
       "      <td>0 mph</td>\n",
       "      <td>30.3 in</td>\n",
       "      <td>0.0 in</td>\n",
       "      <td>0.0 in</td>\n",
       "      <td>Cloudy</td>\n",
       "    </tr>\n",
       "    <tr>\n",
       "      <th>1</th>\n",
       "      <td>30/10/2016</td>\n",
       "      <td>12:50 AM</td>\n",
       "      <td>52 F</td>\n",
       "      <td>48 F</td>\n",
       "      <td>88%</td>\n",
       "      <td>WSW</td>\n",
       "      <td>6 mph</td>\n",
       "      <td>0 mph</td>\n",
       "      <td>30.3 in</td>\n",
       "      <td>0.0 in</td>\n",
       "      <td>0.0 in</td>\n",
       "      <td>Cloudy</td>\n",
       "    </tr>\n",
       "    <tr>\n",
       "      <th>2</th>\n",
       "      <td>30/10/2016</td>\n",
       "      <td>1:20 AM</td>\n",
       "      <td>52 F</td>\n",
       "      <td>48 F</td>\n",
       "      <td>88%</td>\n",
       "      <td>W</td>\n",
       "      <td>7 mph</td>\n",
       "      <td>0 mph</td>\n",
       "      <td>30.2 in</td>\n",
       "      <td>0.0 in</td>\n",
       "      <td>0.0 in</td>\n",
       "      <td>Cloudy</td>\n",
       "    </tr>\n",
       "    <tr>\n",
       "      <th>3</th>\n",
       "      <td>30/10/2016</td>\n",
       "      <td>1:50 AM</td>\n",
       "      <td>52 F</td>\n",
       "      <td>48 F</td>\n",
       "      <td>88%</td>\n",
       "      <td>W</td>\n",
       "      <td>6 mph</td>\n",
       "      <td>0 mph</td>\n",
       "      <td>30.2 in</td>\n",
       "      <td>0.0 in</td>\n",
       "      <td>0.0 in</td>\n",
       "      <td>Cloudy</td>\n",
       "    </tr>\n",
       "    <tr>\n",
       "      <th>4</th>\n",
       "      <td>30/10/2016</td>\n",
       "      <td>1:20 AM</td>\n",
       "      <td>50 F</td>\n",
       "      <td>48 F</td>\n",
       "      <td>94%</td>\n",
       "      <td>WSW</td>\n",
       "      <td>5 mph</td>\n",
       "      <td>0 mph</td>\n",
       "      <td>30.2 in</td>\n",
       "      <td>0.0 in</td>\n",
       "      <td>0.0 in</td>\n",
       "      <td>Cloudy</td>\n",
       "    </tr>\n",
       "  </tbody>\n",
       "</table>\n",
       "</div>"
      ],
      "text/plain": [
       "         date      time temperature dew_point humidity wind wind_speed  \\\n",
       "0  30/10/2016  12:20 AM       52 F      48 F       88%   SW     7 mph    \n",
       "1  30/10/2016  12:50 AM       52 F      48 F       88%  WSW     6 mph    \n",
       "2  30/10/2016   1:20 AM       52 F      48 F       88%    W     7 mph    \n",
       "3  30/10/2016   1:50 AM       52 F      48 F       88%    W     6 mph    \n",
       "4  30/10/2016   1:20 AM       50 F      48 F       94%  WSW     5 mph    \n",
       "\n",
       "  wind_gust  pressure precipitation precipitation_accumulation condition  \n",
       "0    0 mph   30.3 in        0.0 in                     0.0 in     Cloudy  \n",
       "1    0 mph   30.3 in        0.0 in                     0.0 in     Cloudy  \n",
       "2    0 mph   30.2 in        0.0 in                     0.0 in     Cloudy  \n",
       "3    0 mph   30.2 in        0.0 in                     0.0 in     Cloudy  \n",
       "4    0 mph   30.2 in        0.0 in                     0.0 in     Cloudy  "
      ]
     },
     "execution_count": 74,
     "metadata": {},
     "output_type": "execute_result"
    }
   ],
   "source": [
    "df_daily_temperature.head()\n",
    "#df_daily_temperature[\"date\"] = pd.to_datetime(df_daily_temperature[\"date\"], format='%d/%m/%Y ', errors='ignore')\n",
    "#print(df_daily_temperature[\"date\"].max())"
   ]
  },
  {
   "cell_type": "markdown",
   "metadata": {},
   "source": [
    "<h4>Data Preparation</h4>\n",
    "\n",
    "<p>The data above has the following issues:</p>\n",
    "<ul>\n",
    "    <li>Date and time should be fuse together and converted to a DateTime format.</li>\n",
    "    <li>Temperature and dew_point should be numbers only and also have a Celsius value.</li>\n",
    "    <li>Humidity, pressure, precipitation, precipitation_accumulation should be integers.</li>\n",
    "    <li>Wind_speed, wind_gust should be converted to integers and also have the kmh value as well.</li>\n",
    "</ul>"
   ]
  },
  {
   "cell_type": "code",
   "execution_count": 75,
   "metadata": {},
   "outputs": [],
   "source": [
    "#Date and Time\n",
    "df_daily_temperature[\"date_time\"] = pd.to_datetime((df_daily_temperature[\"date\"]+\" \"+df_daily_temperature[\"time\"]),format='%d/%m/%Y %I:%M %p', errors='ignore')\n",
    "\n",
    "#Temperature\n",
    "df_daily_temperature[\"temp_f\"] = df_daily_temperature[\"temperature\"].str.extract('(\\d+)').astype(int)\n",
    "df_daily_temperature[\"temp_c\"] = (df_daily_temperature[\"temp_f\"]-32)*(5/9)\n",
    "df_daily_temperature[\"temp_c\"] = df_daily_temperature[\"temp_c\"].round()\n",
    "\n",
    "#Dew point\n",
    "df_daily_temperature[\"dew_point_f\"] = df_daily_temperature[\"dew_point\"].str.extract('(\\d+)').astype(int)\n",
    "df_daily_temperature[\"dew_point_c\"] = (df_daily_temperature[\"dew_point_f\"]-32)*(5/9)\n",
    "\n",
    "#Wind Gust\n",
    "df_daily_temperature[\"wind_speed_mph\"] = df_daily_temperature[\"wind_speed\"].str.extract('(\\d+)').astype(int)\n",
    "df_daily_temperature[\"wind_gust_mph\"] = df_daily_temperature[\"wind_gust\"].str.extract('(\\d+)').astype(int)\n",
    "df_daily_temperature[\"wind_speed_kmh\"] = df_daily_temperature[\"wind_speed_mph\"]*1.60934\n",
    "df_daily_temperature[\"wind_gust_kmh\"] = df_daily_temperature[\"wind_gust_mph\"]*1.60934\n",
    "\n",
    "#Humidity\n",
    "df_daily_temperature[\"humidity_%\"] = df_daily_temperature[\"humidity\"].str.extract('(\\d+)').astype(int)/100\n",
    "\n",
    "#Wind Gust\n",
    "df_daily_temperature[\"pressure_in\"] = df_daily_temperature[\"pressure\"].str.extract('(\\d+)').astype(int)\n",
    "df_daily_temperature[\"precipitation_in\"] = df_daily_temperature[\"precipitation\"].str.extract('(\\d+)').astype(int)\n",
    "df_daily_temperature[\"precipitation_accumulation_in\"] = df_daily_temperature[\"precipitation_accumulation\"].str.extract('(\\d+)').astype(int)\n",
    "\n",
    "#Remove Columns\n",
    "df_daily_temperature.drop(df_daily_temperature[[\"date\", \"time\",\"temperature\",\"dew_point\",\"wind_speed\",\"wind_gust\",\"humidity\",\"pressure\",\"precipitation\",\"precipitation_accumulation\"]], axis=1, inplace=True)\n",
    "\n",
    "#(32 °F − 32) × 5/9 = 0 °C"
   ]
  },
  {
   "cell_type": "markdown",
   "metadata": {},
   "source": [
    "<p>Now we fuse the newly created <code>df_daily_temperature</code> with <code>df_modified</code> and store it in a new data frame.</p>"
   ]
  },
  {
   "cell_type": "code",
   "execution_count": 76,
   "metadata": {},
   "outputs": [
    {
     "data": {
      "text/html": [
       "<div>\n",
       "<style scoped>\n",
       "    .dataframe tbody tr th:only-of-type {\n",
       "        vertical-align: middle;\n",
       "    }\n",
       "\n",
       "    .dataframe tbody tr th {\n",
       "        vertical-align: top;\n",
       "    }\n",
       "\n",
       "    .dataframe thead th {\n",
       "        text-align: right;\n",
       "    }\n",
       "</style>\n",
       "<table border=\"1\" class=\"dataframe\">\n",
       "  <thead>\n",
       "    <tr style=\"text-align: right;\">\n",
       "      <th></th>\n",
       "      <th>Transaction</th>\n",
       "      <th>Item</th>\n",
       "      <th>date_time</th>\n",
       "      <th>period_day</th>\n",
       "      <th>weekday_weekend</th>\n",
       "      <th>weekday</th>\n",
       "      <th>wind</th>\n",
       "      <th>condition</th>\n",
       "      <th>temp_f</th>\n",
       "      <th>temp_c</th>\n",
       "      <th>dew_point_f</th>\n",
       "      <th>dew_point_c</th>\n",
       "      <th>wind_speed_mph</th>\n",
       "      <th>wind_gust_mph</th>\n",
       "      <th>wind_speed_kmh</th>\n",
       "      <th>wind_gust_kmh</th>\n",
       "      <th>humidity_%</th>\n",
       "      <th>pressure_in</th>\n",
       "      <th>precipitation_in</th>\n",
       "      <th>precipitation_accumulation_in</th>\n",
       "    </tr>\n",
       "  </thead>\n",
       "  <tbody>\n",
       "    <tr>\n",
       "      <th>0</th>\n",
       "      <td>1</td>\n",
       "      <td>Bread</td>\n",
       "      <td>2016-10-30 09:58:11</td>\n",
       "      <td>morning</td>\n",
       "      <td>weekend</td>\n",
       "      <td>6</td>\n",
       "      <td>VAR</td>\n",
       "      <td>Fair</td>\n",
       "      <td>54</td>\n",
       "      <td>12.0</td>\n",
       "      <td>50</td>\n",
       "      <td>10.0</td>\n",
       "      <td>3</td>\n",
       "      <td>0</td>\n",
       "      <td>4.82802</td>\n",
       "      <td>0.0</td>\n",
       "      <td>0.88</td>\n",
       "      <td>30</td>\n",
       "      <td>0</td>\n",
       "      <td>0</td>\n",
       "    </tr>\n",
       "    <tr>\n",
       "      <th>1</th>\n",
       "      <td>2</td>\n",
       "      <td>Scandinavian</td>\n",
       "      <td>2016-10-30 10:05:34</td>\n",
       "      <td>morning</td>\n",
       "      <td>weekend</td>\n",
       "      <td>6</td>\n",
       "      <td>WSW</td>\n",
       "      <td>Fair</td>\n",
       "      <td>54</td>\n",
       "      <td>12.0</td>\n",
       "      <td>50</td>\n",
       "      <td>10.0</td>\n",
       "      <td>5</td>\n",
       "      <td>0</td>\n",
       "      <td>8.04670</td>\n",
       "      <td>0.0</td>\n",
       "      <td>0.88</td>\n",
       "      <td>30</td>\n",
       "      <td>0</td>\n",
       "      <td>0</td>\n",
       "    </tr>\n",
       "    <tr>\n",
       "      <th>2</th>\n",
       "      <td>2</td>\n",
       "      <td>Scandinavian</td>\n",
       "      <td>2016-10-30 10:05:34</td>\n",
       "      <td>morning</td>\n",
       "      <td>weekend</td>\n",
       "      <td>6</td>\n",
       "      <td>WSW</td>\n",
       "      <td>Fair</td>\n",
       "      <td>54</td>\n",
       "      <td>12.0</td>\n",
       "      <td>50</td>\n",
       "      <td>10.0</td>\n",
       "      <td>5</td>\n",
       "      <td>0</td>\n",
       "      <td>8.04670</td>\n",
       "      <td>0.0</td>\n",
       "      <td>0.88</td>\n",
       "      <td>30</td>\n",
       "      <td>0</td>\n",
       "      <td>0</td>\n",
       "    </tr>\n",
       "    <tr>\n",
       "      <th>3</th>\n",
       "      <td>3</td>\n",
       "      <td>Hot chocolate</td>\n",
       "      <td>2016-10-30 10:07:57</td>\n",
       "      <td>morning</td>\n",
       "      <td>weekend</td>\n",
       "      <td>6</td>\n",
       "      <td>WSW</td>\n",
       "      <td>Fair</td>\n",
       "      <td>54</td>\n",
       "      <td>12.0</td>\n",
       "      <td>50</td>\n",
       "      <td>10.0</td>\n",
       "      <td>5</td>\n",
       "      <td>0</td>\n",
       "      <td>8.04670</td>\n",
       "      <td>0.0</td>\n",
       "      <td>0.88</td>\n",
       "      <td>30</td>\n",
       "      <td>0</td>\n",
       "      <td>0</td>\n",
       "    </tr>\n",
       "    <tr>\n",
       "      <th>4</th>\n",
       "      <td>3</td>\n",
       "      <td>Jam</td>\n",
       "      <td>2016-10-30 10:07:57</td>\n",
       "      <td>morning</td>\n",
       "      <td>weekend</td>\n",
       "      <td>6</td>\n",
       "      <td>WSW</td>\n",
       "      <td>Fair</td>\n",
       "      <td>54</td>\n",
       "      <td>12.0</td>\n",
       "      <td>50</td>\n",
       "      <td>10.0</td>\n",
       "      <td>5</td>\n",
       "      <td>0</td>\n",
       "      <td>8.04670</td>\n",
       "      <td>0.0</td>\n",
       "      <td>0.88</td>\n",
       "      <td>30</td>\n",
       "      <td>0</td>\n",
       "      <td>0</td>\n",
       "    </tr>\n",
       "  </tbody>\n",
       "</table>\n",
       "</div>"
      ],
      "text/plain": [
       "   Transaction           Item           date_time period_day weekday_weekend  \\\n",
       "0            1          Bread 2016-10-30 09:58:11    morning         weekend   \n",
       "1            2   Scandinavian 2016-10-30 10:05:34    morning         weekend   \n",
       "2            2   Scandinavian 2016-10-30 10:05:34    morning         weekend   \n",
       "3            3  Hot chocolate 2016-10-30 10:07:57    morning         weekend   \n",
       "4            3            Jam 2016-10-30 10:07:57    morning         weekend   \n",
       "\n",
       "   weekday wind condition  temp_f  temp_c  dew_point_f  dew_point_c  \\\n",
       "0        6  VAR      Fair      54    12.0           50         10.0   \n",
       "1        6  WSW      Fair      54    12.0           50         10.0   \n",
       "2        6  WSW      Fair      54    12.0           50         10.0   \n",
       "3        6  WSW      Fair      54    12.0           50         10.0   \n",
       "4        6  WSW      Fair      54    12.0           50         10.0   \n",
       "\n",
       "   wind_speed_mph  wind_gust_mph  wind_speed_kmh  wind_gust_kmh  humidity_%  \\\n",
       "0               3              0         4.82802            0.0        0.88   \n",
       "1               5              0         8.04670            0.0        0.88   \n",
       "2               5              0         8.04670            0.0        0.88   \n",
       "3               5              0         8.04670            0.0        0.88   \n",
       "4               5              0         8.04670            0.0        0.88   \n",
       "\n",
       "   pressure_in  precipitation_in  precipitation_accumulation_in  \n",
       "0           30                 0                              0  \n",
       "1           30                 0                              0  \n",
       "2           30                 0                              0  \n",
       "3           30                 0                              0  \n",
       "4           30                 0                              0  "
      ]
     },
     "execution_count": 76,
     "metadata": {},
     "output_type": "execute_result"
    }
   ],
   "source": [
    "#temporary list\n",
    "temp = []\n",
    "for i in range(len(df_modified[\"date_time\"])):\n",
    "    # We find the closest date\n",
    "    a=df_daily_temperature[\"date_time\"]-df_modified[\"date_time\"][i]\n",
    "    # We change the values to absolutes\n",
    "    a=a.abs()\n",
    "    # Append the values to the temp list\n",
    "    temp.append(df_daily_temperature.loc[a.idxmin()])\n",
    "# We create a new dataframe\n",
    "df_daily_temp_temp = pd.DataFrame(data=temp,columns=df_daily_temperature.columns)\n",
    "# We drop the index values\n",
    "df_daily_temp_temp=df_daily_temp_temp.reset_index(drop=True)\n",
    "# We drop the date time column\n",
    "df_daily_temp_temp.drop(df_daily_temp_temp[[\"date_time\"]], axis=1, inplace=True)\n",
    "# We concat the two major dataframes in this report\n",
    "df_modified_temperature = pd.concat([df_modified, df_daily_temp_temp], axis=1, sort=False)\n",
    "df_modified_temperature.head()"
   ]
  },
  {
   "cell_type": "code",
   "execution_count": 78,
   "metadata": {},
   "outputs": [
    {
     "data": {
      "text/html": [
       "<div>\n",
       "<style scoped>\n",
       "    .dataframe tbody tr th:only-of-type {\n",
       "        vertical-align: middle;\n",
       "    }\n",
       "\n",
       "    .dataframe tbody tr th {\n",
       "        vertical-align: top;\n",
       "    }\n",
       "\n",
       "    .dataframe thead th {\n",
       "        text-align: right;\n",
       "    }\n",
       "</style>\n",
       "<table border=\"1\" class=\"dataframe\">\n",
       "  <thead>\n",
       "    <tr style=\"text-align: right;\">\n",
       "      <th></th>\n",
       "      <th>temp_c</th>\n",
       "      <th>Item</th>\n",
       "      <th>Transaction</th>\n",
       "    </tr>\n",
       "  </thead>\n",
       "  <tbody>\n",
       "    <tr>\n",
       "      <th>0</th>\n",
       "      <td>-6.0</td>\n",
       "      <td>Bread</td>\n",
       "      <td>7</td>\n",
       "    </tr>\n",
       "    <tr>\n",
       "      <th>1</th>\n",
       "      <td>-6.0</td>\n",
       "      <td>Coffee</td>\n",
       "      <td>3</td>\n",
       "    </tr>\n",
       "    <tr>\n",
       "      <th>2</th>\n",
       "      <td>-6.0</td>\n",
       "      <td>Cookies</td>\n",
       "      <td>1</td>\n",
       "    </tr>\n",
       "    <tr>\n",
       "      <th>3</th>\n",
       "      <td>-6.0</td>\n",
       "      <td>Hot chocolate</td>\n",
       "      <td>1</td>\n",
       "    </tr>\n",
       "    <tr>\n",
       "      <th>4</th>\n",
       "      <td>-6.0</td>\n",
       "      <td>Medialuna</td>\n",
       "      <td>2</td>\n",
       "    </tr>\n",
       "    <tr>\n",
       "      <th>5</th>\n",
       "      <td>-6.0</td>\n",
       "      <td>Pastry</td>\n",
       "      <td>1</td>\n",
       "    </tr>\n",
       "    <tr>\n",
       "      <th>6</th>\n",
       "      <td>-6.0</td>\n",
       "      <td>Tea</td>\n",
       "      <td>1</td>\n",
       "    </tr>\n",
       "    <tr>\n",
       "      <th>7</th>\n",
       "      <td>-6.0</td>\n",
       "      <td>Toast</td>\n",
       "      <td>3</td>\n",
       "    </tr>\n",
       "    <tr>\n",
       "      <th>8</th>\n",
       "      <td>-5.0</td>\n",
       "      <td>Bread</td>\n",
       "      <td>1</td>\n",
       "    </tr>\n",
       "    <tr>\n",
       "      <th>9</th>\n",
       "      <td>-5.0</td>\n",
       "      <td>Coffee</td>\n",
       "      <td>4</td>\n",
       "    </tr>\n",
       "  </tbody>\n",
       "</table>\n",
       "</div>"
      ],
      "text/plain": [
       "   temp_c           Item  Transaction\n",
       "0    -6.0          Bread            7\n",
       "1    -6.0         Coffee            3\n",
       "2    -6.0        Cookies            1\n",
       "3    -6.0  Hot chocolate            1\n",
       "4    -6.0      Medialuna            2\n",
       "5    -6.0         Pastry            1\n",
       "6    -6.0            Tea            1\n",
       "7    -6.0          Toast            3\n",
       "8    -5.0          Bread            1\n",
       "9    -5.0         Coffee            4"
      ]
     },
     "execution_count": 78,
     "metadata": {},
     "output_type": "execute_result"
    }
   ],
   "source": [
    "# Creating a new DataFrame that contains the count of each item per transaction in a temperature\n",
    "df_Item_by_temperature_count = df_modified_temperature.groupby([\"temp_c\",\"Item\"])[\"Transaction\"].count()\n",
    "df_Item_by_temperature_count=df_Item_by_temperature_count.reset_index()\n",
    "df_Item_by_temperature_count.head(10)\n"
   ]
  },
  {
   "cell_type": "code",
   "execution_count": 80,
   "metadata": {},
   "outputs": [
    {
     "data": {
      "image/png": "[encoded data removed]",
      "text/plain": [
       "<Figure size 648x216 with 1 Axes>"
      ]
     },
     "metadata": {
      "needs_background": "light"
     },
     "output_type": "display_data"
    }
   ],
   "source": [
    "plt.figure( figsize = (9,3))\n",
    "plt.bar(df_Item_by_temperature_count[\"temp_c\"],df_Item_by_temperature_count[\"Transaction\"])\n",
    "plt.xlabel(\"Temperatures\")\n",
    "plt.ylabel(\"Amount of transactions\")\n",
    "plt.savefig('./graphs/total_amount-transaction-vs-temperature.png',bbox_inches='tight', dpi=1500)\n",
    "plt.show()"
   ]
  },
  {
   "cell_type": "code",
   "execution_count": 89,
   "metadata": {},
   "outputs": [
    {
     "data": {
      "image/png": "[encoded data removed]",
      "text/plain": [
       "<Figure size 216x648 with 1 Axes>"
      ]
     },
     "metadata": {
      "needs_background": "light"
     },
     "output_type": "display_data"
    }
   ],
   "source": []
  },
  {
   "cell_type": "markdown",
   "metadata": {},
   "source": [
    "To be Continued"
   ]
  }
 ],
 "metadata": {
  "kernelspec": {
   "display_name": "Python 3",
   "language": "python",
   "name": "python3"
  },
  "language_info": {
   "codemirror_mode": {
    "name": "ipython",
    "version": 3
   },
   "file_extension": ".py",
   "mimetype": "text/x-python",
   "name": "python",
   "nbconvert_exporter": "python",
   "pygments_lexer": "ipython3",
   "version": "3.7.1"
  }
 },
 "nbformat": 4,
 "nbformat_minor": 1
}
