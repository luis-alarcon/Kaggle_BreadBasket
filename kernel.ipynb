{
 "cells": [
  {
   "cell_type": "code",
   "execution_count": 1,
   "metadata": {
    "_cell_guid": "b1076dfc-b9ad-4769-8c92-a6c4dae69d19",
    "_uuid": "8f2839f25d086af736a60e9eeb907d3b93b6e0e5"
   },
   "outputs": [],
   "source": [
    "# This Python 3 environment comes with many helpful analytics libraries installed\n",
    "# It is defined by the kaggle/python docker image: https://github.com/kaggle/docker-python\n",
    "# For example, here's several helpful packages to load in \n",
    "\n",
    "import numpy as np # linear algebra\n",
    "import pandas as pd # data processing, CSV file I/O (e.g. pd.read_csv)\n",
    "\n",
    "# Input data files are available in the \"../input/\" directory.\n",
    "# For example, running this (by clicking run or pressing Shift+Enter) will list the files in the input directory\n",
    "\n",
    "import os\n",
    "#print(os.listdir(\"../input\"))\n",
    "\n",
    "# Any results you write to the current directory are saved as output."
   ]
  },
  {
   "cell_type": "markdown",
   "metadata": {
    "_uuid": "83590a20b10883fc8e6459f2b9f53259d7eb9595"
   },
   "source": [
    "<h1>Table of Content</h1>\n",
    "<ol>\n",
    "    <li>[<b>Introduction</b>](#introduction)</li>\n",
    "    <li>[<b>Aims</b>](#aims)</li>\n",
    "    <li>[<b>Quality Analysis</b>](#quality_analysis)</li>\n",
    "    <ul>\n",
    "        <li>[<b>Null Values</b>](#null_values)</li>\n",
    "        <li>[<b>Data Problems</b>](#data_problems)</li>\n",
    "    </ul>\n",
    "    <li>[<b>Analysis and Visualization of Data</b>](#quality_visualization)</li>\n",
    "</ol>"
   ]
  },
  {
   "cell_type": "markdown",
   "metadata": {
    "_uuid": "5e113dc4755ac58f2eec6e220286affc00951f0c"
   },
   "source": [
    "<h1>BreadBasket: Selling Patterns</h1>\n",
    "<h2>by Luis Alarcon</h2>"
   ]
  },
  {
   "cell_type": "markdown",
   "metadata": {
    "_uuid": "2f914213e3004a4c4ce8a2f6dea00a4fcf293705"
   },
   "source": [
    "<h2><a class=\"anchor\" id=\"introduction\">Introduction</a></h2>\n",
    "\n",
    "<p>The dataset belongs to \"The Bread Basket\" a bakery located in Edinburgh. The dataset has 21293 entires, over 6000 transactions and 4 columns:</p>\n",
    "<ul>\n",
    "    <li><b>Date</b>: Categorical variable that tells us the date of the transactions (YYYY-MM-DD format).</li>\n",
    "    <li><b>Time</b>: Categorical variable that tells us the time of the transactions (HH:MM:SS format).</li>\n",
    "    <li><b>Transaction</b>: Quantitative variable that allows us to differentiate the transactions. The rows that share the same value in this field belong to the same transaction, that's why the data set has less transactions than observations.</li>\n",
    "    <li><b>Item</b>: Categorical variable with the products.</li>\n",
    "</ul>\n",
    "\n"
   ]
  },
  {
   "cell_type": "code",
   "execution_count": 2,
   "metadata": {
    "_kg_hide-input": false,
    "_kg_hide-output": false,
    "_uuid": "97cc18aac8227106e019001fa099ec588952f5f4"
   },
   "outputs": [
    {
     "name": "stdout",
     "output_type": "stream",
     "text": [
      "Overall information about the BreadBasket_DMS dataset\n",
      "<class 'pandas.core.frame.DataFrame'>\n",
      "RangeIndex: 21293 entries, 0 to 21292\n",
      "Data columns (total 4 columns):\n",
      "Date           21293 non-null object\n",
      "Time           21293 non-null object\n",
      "Transaction    21293 non-null int64\n",
      "Item           21293 non-null object\n",
      "dtypes: int64(1), object(3)\n",
      "memory usage: 665.5+ KB\n",
      "\n",
      "Sample of the BreadBasket_DMS dataset\n"
     ]
    },
    {
     "data": {
      "text/html": [
       "<div>\n",
       "<style scoped>\n",
       "    .dataframe tbody tr th:only-of-type {\n",
       "        vertical-align: middle;\n",
       "    }\n",
       "\n",
       "    .dataframe tbody tr th {\n",
       "        vertical-align: top;\n",
       "    }\n",
       "\n",
       "    .dataframe thead th {\n",
       "        text-align: right;\n",
       "    }\n",
       "</style>\n",
       "<table border=\"1\" class=\"dataframe\">\n",
       "  <thead>\n",
       "    <tr style=\"text-align: right;\">\n",
       "      <th></th>\n",
       "      <th>Date</th>\n",
       "      <th>Time</th>\n",
       "      <th>Transaction</th>\n",
       "      <th>Item</th>\n",
       "    </tr>\n",
       "  </thead>\n",
       "  <tbody>\n",
       "    <tr>\n",
       "      <th>0</th>\n",
       "      <td>2016-10-30</td>\n",
       "      <td>09:58:11</td>\n",
       "      <td>1</td>\n",
       "      <td>Bread</td>\n",
       "    </tr>\n",
       "    <tr>\n",
       "      <th>1</th>\n",
       "      <td>2016-10-30</td>\n",
       "      <td>10:05:34</td>\n",
       "      <td>2</td>\n",
       "      <td>Scandinavian</td>\n",
       "    </tr>\n",
       "    <tr>\n",
       "      <th>2</th>\n",
       "      <td>2016-10-30</td>\n",
       "      <td>10:05:34</td>\n",
       "      <td>2</td>\n",
       "      <td>Scandinavian</td>\n",
       "    </tr>\n",
       "    <tr>\n",
       "      <th>3</th>\n",
       "      <td>2016-10-30</td>\n",
       "      <td>10:07:57</td>\n",
       "      <td>3</td>\n",
       "      <td>Hot chocolate</td>\n",
       "    </tr>\n",
       "    <tr>\n",
       "      <th>4</th>\n",
       "      <td>2016-10-30</td>\n",
       "      <td>10:07:57</td>\n",
       "      <td>3</td>\n",
       "      <td>Jam</td>\n",
       "    </tr>\n",
       "  </tbody>\n",
       "</table>\n",
       "</div>"
      ],
      "text/plain": [
       "         Date      Time  Transaction           Item\n",
       "0  2016-10-30  09:58:11            1          Bread\n",
       "1  2016-10-30  10:05:34            2   Scandinavian\n",
       "2  2016-10-30  10:05:34            2   Scandinavian\n",
       "3  2016-10-30  10:07:57            3  Hot chocolate\n",
       "4  2016-10-30  10:07:57            3            Jam"
      ]
     },
     "execution_count": 2,
     "metadata": {},
     "output_type": "execute_result"
    }
   ],
   "source": [
    "#loading extra packages\n",
    "from multiprocessing.dummy import Pool as ThreadPool \n",
    "#Loading Dataset\n",
    "df = pd.read_csv(\"./dataset/BreadBasket_DMS.csv\")\n",
    "print(\"Overall information about the BreadBasket_DMS dataset\")\n",
    "df.info()\n",
    "print(\"\\nSample of the BreadBasket_DMS dataset\")\n",
    "df.head(5)"
   ]
  },
  {
   "cell_type": "markdown",
   "metadata": {
    "_uuid": "8602d8b3a10ed71432a96c216df076960d30aa32"
   },
   "source": [
    "<h2><a class=\"anchor\" id=\"aims\">Aims</a></h2>"
   ]
  },
  {
   "cell_type": "markdown",
   "metadata": {
    "_uuid": "42ec4e2559b798cc4fcf71873e73bfddc35e45de"
   },
   "source": [
    "<h2><a class=\"anchor\" id=\"quality_analysis\">Quality Analysis</a></h2>\n",
    "<h3><a class=\"anchor\" id=\"null_values\">Null Values</a></h3>"
   ]
  },
  {
   "cell_type": "code",
   "execution_count": 3,
   "metadata": {
    "_uuid": "1a83df97ae5be49a9474a2a851a401810d178b0e"
   },
   "outputs": [
    {
     "data": {
      "text/plain": [
       "False"
      ]
     },
     "execution_count": 3,
     "metadata": {},
     "output_type": "execute_result"
    }
   ],
   "source": [
    "df.isnull().values.any()"
   ]
  },
  {
   "cell_type": "markdown",
   "metadata": {
    "_uuid": "e37c9b7f24c88d689af76ae987f2c6499b7507bd"
   },
   "source": [
    "<p>There were no null values found in the dataset. Therefore we proceed to find any values in the Item column that does not represent an item to be sold. For example, \"none\".</p>"
   ]
  },
  {
   "cell_type": "code",
   "execution_count": 4,
   "metadata": {
    "_uuid": "04c2c43133aa1687d5767d2d9a691db36df5e9a0"
   },
   "outputs": [
    {
     "name": "stdout",
     "output_type": "stream",
     "text": [
      "NONE    786\n",
      "Name: Item, dtype: int64\n"
     ]
    }
   ],
   "source": [
    "print(df.loc[df[\"Item\"]==\"NONE\"].Item.value_counts())"
   ]
  },
  {
   "cell_type": "markdown",
   "metadata": {
    "_uuid": "0f566e1a89c50325d11321171a178ec615b70d03"
   },
   "source": [
    "<p>There are a total of 786 entries with transactions with a \"None\" item. This value seems high, and we continue by finding the top then items found in the dataset and see where \"None\" is found.</p>"
   ]
  },
  {
   "cell_type": "code",
   "execution_count": 5,
   "metadata": {
    "_uuid": "deda176e23e7ab4cc59104e4b221f49397707415"
   },
   "outputs": [
    {
     "name": "stdout",
     "output_type": "stream",
     "text": [
      "Top 10 most ordered time in transactions\n"
     ]
    },
    {
     "data": {
      "text/plain": [
       "Coffee           5471\n",
       "Bread            3325\n",
       "Tea              1435\n",
       "Cake             1025\n",
       "Pastry            856\n",
       "NONE              786\n",
       "Sandwich          771\n",
       "Medialuna         616\n",
       "Hot chocolate     590\n",
       "Cookies           540\n",
       "Name: Item, dtype: int64"
      ]
     },
     "execution_count": 5,
     "metadata": {},
     "output_type": "execute_result"
    }
   ],
   "source": [
    "# Count of Unique Items in transactions\n",
    "df_counts = df[\"Item\"].value_counts()\n",
    "#top ten items bought\n",
    "print(\"Top 10 most ordered time in transactions\")\n",
    "df_counts.head(10)"
   ]
  },
  {
   "cell_type": "markdown",
   "metadata": {
    "_uuid": "90352df1cded269a0581af76b834de3a72a4f730"
   },
   "source": [
    "<h3><a class=\"anchor\" id=\"data_problems\">Data Problems</a></h3>\n",
    "<p>After initial analysis of the BreadBasket dataset, some issues were found:</p>\n",
    "<ol>\n",
    "    <li><b>Item</b>: The items in the dataset with value \"None\" needs to be eliminated from the dataset.</li>\n",
    "    <li><b>Date and Time</b>: These columns are <i>non-null object</i> and need to be changed to <i>datetime</i> data type.</li>\n",
    "    <li><b>date_time</b>: A new column needs to be created that binds the column Date and Time as one and under the <i>datetime</i> data type. </li>\n",
    "    <li><b>period_day</b>: A new column will be created that shows whether the transaction was made in the morning, afternoon, evening or night.</li>\n",
    "    <li><b>weekday_weekend</b>: A new column will be created that shows whether the transaction was made in the weekday or weekend.</li>\n",
    "    <li><b>weekday</b>: A new column will be created that shows which day of the week the transaction was made.</li>\n",
    "</ol>\n",
    "\n",
    "<p>All the new columns are created in order to have a better possibility to understand purchase pattern depending on more factors.</p>\n",
    " \t \t"
   ]
  },
  {
   "cell_type": "markdown",
   "metadata": {
    "_uuid": "91cd2a2305f427a88256bd2c0e760214b361c4b5"
   },
   "source": [
    "<h4>1. Item</h4>"
   ]
  },
  {
   "cell_type": "code",
   "execution_count": 6,
   "metadata": {
    "_uuid": "8ccf40fd1c3849409f32bccadb90943f1d0ba349"
   },
   "outputs": [
    {
     "data": {
      "text/html": [
       "<div>\n",
       "<style scoped>\n",
       "    .dataframe tbody tr th:only-of-type {\n",
       "        vertical-align: middle;\n",
       "    }\n",
       "\n",
       "    .dataframe tbody tr th {\n",
       "        vertical-align: top;\n",
       "    }\n",
       "\n",
       "    .dataframe thead th {\n",
       "        text-align: right;\n",
       "    }\n",
       "</style>\n",
       "<table border=\"1\" class=\"dataframe\">\n",
       "  <thead>\n",
       "    <tr style=\"text-align: right;\">\n",
       "      <th></th>\n",
       "      <th>Date</th>\n",
       "      <th>Time</th>\n",
       "      <th>Transaction</th>\n",
       "      <th>Item</th>\n",
       "    </tr>\n",
       "  </thead>\n",
       "  <tbody>\n",
       "    <tr>\n",
       "      <th>0</th>\n",
       "      <td>2016-10-30</td>\n",
       "      <td>09:58:11</td>\n",
       "      <td>1</td>\n",
       "      <td>Bread</td>\n",
       "    </tr>\n",
       "    <tr>\n",
       "      <th>1</th>\n",
       "      <td>2016-10-30</td>\n",
       "      <td>10:05:34</td>\n",
       "      <td>2</td>\n",
       "      <td>Scandinavian</td>\n",
       "    </tr>\n",
       "    <tr>\n",
       "      <th>2</th>\n",
       "      <td>2016-10-30</td>\n",
       "      <td>10:05:34</td>\n",
       "      <td>2</td>\n",
       "      <td>Scandinavian</td>\n",
       "    </tr>\n",
       "    <tr>\n",
       "      <th>3</th>\n",
       "      <td>2016-10-30</td>\n",
       "      <td>10:07:57</td>\n",
       "      <td>3</td>\n",
       "      <td>Hot chocolate</td>\n",
       "    </tr>\n",
       "    <tr>\n",
       "      <th>4</th>\n",
       "      <td>2016-10-30</td>\n",
       "      <td>10:07:57</td>\n",
       "      <td>3</td>\n",
       "      <td>Jam</td>\n",
       "    </tr>\n",
       "    <tr>\n",
       "      <th>5</th>\n",
       "      <td>2016-10-30</td>\n",
       "      <td>10:07:57</td>\n",
       "      <td>3</td>\n",
       "      <td>Cookies</td>\n",
       "    </tr>\n",
       "    <tr>\n",
       "      <th>6</th>\n",
       "      <td>2016-10-30</td>\n",
       "      <td>10:08:41</td>\n",
       "      <td>4</td>\n",
       "      <td>Muffin</td>\n",
       "    </tr>\n",
       "    <tr>\n",
       "      <th>7</th>\n",
       "      <td>2016-10-30</td>\n",
       "      <td>10:13:03</td>\n",
       "      <td>5</td>\n",
       "      <td>Coffee</td>\n",
       "    </tr>\n",
       "    <tr>\n",
       "      <th>8</th>\n",
       "      <td>2016-10-30</td>\n",
       "      <td>10:13:03</td>\n",
       "      <td>5</td>\n",
       "      <td>Pastry</td>\n",
       "    </tr>\n",
       "    <tr>\n",
       "      <th>9</th>\n",
       "      <td>2016-10-30</td>\n",
       "      <td>10:13:03</td>\n",
       "      <td>5</td>\n",
       "      <td>Bread</td>\n",
       "    </tr>\n",
       "  </tbody>\n",
       "</table>\n",
       "</div>"
      ],
      "text/plain": [
       "         Date      Time  Transaction           Item\n",
       "0  2016-10-30  09:58:11            1          Bread\n",
       "1  2016-10-30  10:05:34            2   Scandinavian\n",
       "2  2016-10-30  10:05:34            2   Scandinavian\n",
       "3  2016-10-30  10:07:57            3  Hot chocolate\n",
       "4  2016-10-30  10:07:57            3            Jam\n",
       "5  2016-10-30  10:07:57            3        Cookies\n",
       "6  2016-10-30  10:08:41            4         Muffin\n",
       "7  2016-10-30  10:13:03            5         Coffee\n",
       "8  2016-10-30  10:13:03            5         Pastry\n",
       "9  2016-10-30  10:13:03            5          Bread"
      ]
     },
     "execution_count": 6,
     "metadata": {},
     "output_type": "execute_result"
    }
   ],
   "source": [
    "#Create a new DataFrame without NONE as an item\n",
    "df_modified= df[df[\"Item\"]!=\"NONE\"].reset_index(drop=True)\n",
    "df_modified.head(10)"
   ]
  },
  {
   "cell_type": "markdown",
   "metadata": {
    "_uuid": "bbe11b90d6e6caa9ee7cbdac43caeb9e4d875a72"
   },
   "source": [
    "<h4>2. date_time</h4>"
   ]
  },
  {
   "cell_type": "code",
   "execution_count": 7,
   "metadata": {
    "_uuid": "aa3baf173164b2814ec04242ec9654a1700cea98"
   },
   "outputs": [
    {
     "name": "stdout",
     "output_type": "stream",
     "text": [
      "Overall information about the modified BreadBasket_DMS dataset\n",
      "<class 'pandas.core.frame.DataFrame'>\n",
      "RangeIndex: 20507 entries, 0 to 20506\n",
      "Data columns (total 3 columns):\n",
      "Transaction    20507 non-null int64\n",
      "Item           20507 non-null object\n",
      "date_time      20507 non-null datetime64[ns]\n",
      "dtypes: datetime64[ns](1), int64(1), object(1)\n",
      "memory usage: 480.7+ KB\n",
      "\n",
      "Sample of the modified BreadBasket_DMS dataset\n"
     ]
    },
    {
     "data": {
      "text/html": [
       "<div>\n",
       "<style scoped>\n",
       "    .dataframe tbody tr th:only-of-type {\n",
       "        vertical-align: middle;\n",
       "    }\n",
       "\n",
       "    .dataframe tbody tr th {\n",
       "        vertical-align: top;\n",
       "    }\n",
       "\n",
       "    .dataframe thead th {\n",
       "        text-align: right;\n",
       "    }\n",
       "</style>\n",
       "<table border=\"1\" class=\"dataframe\">\n",
       "  <thead>\n",
       "    <tr style=\"text-align: right;\">\n",
       "      <th></th>\n",
       "      <th>Transaction</th>\n",
       "      <th>Item</th>\n",
       "      <th>date_time</th>\n",
       "    </tr>\n",
       "  </thead>\n",
       "  <tbody>\n",
       "    <tr>\n",
       "      <th>0</th>\n",
       "      <td>1</td>\n",
       "      <td>Bread</td>\n",
       "      <td>2016-10-30 09:58:11</td>\n",
       "    </tr>\n",
       "    <tr>\n",
       "      <th>1</th>\n",
       "      <td>2</td>\n",
       "      <td>Scandinavian</td>\n",
       "      <td>2016-10-30 10:05:34</td>\n",
       "    </tr>\n",
       "    <tr>\n",
       "      <th>2</th>\n",
       "      <td>2</td>\n",
       "      <td>Scandinavian</td>\n",
       "      <td>2016-10-30 10:05:34</td>\n",
       "    </tr>\n",
       "    <tr>\n",
       "      <th>3</th>\n",
       "      <td>3</td>\n",
       "      <td>Hot chocolate</td>\n",
       "      <td>2016-10-30 10:07:57</td>\n",
       "    </tr>\n",
       "    <tr>\n",
       "      <th>4</th>\n",
       "      <td>3</td>\n",
       "      <td>Jam</td>\n",
       "      <td>2016-10-30 10:07:57</td>\n",
       "    </tr>\n",
       "  </tbody>\n",
       "</table>\n",
       "</div>"
      ],
      "text/plain": [
       "   Transaction           Item           date_time\n",
       "0            1          Bread 2016-10-30 09:58:11\n",
       "1            2   Scandinavian 2016-10-30 10:05:34\n",
       "2            2   Scandinavian 2016-10-30 10:05:34\n",
       "3            3  Hot chocolate 2016-10-30 10:07:57\n",
       "4            3            Jam 2016-10-30 10:07:57"
      ]
     },
     "execution_count": 7,
     "metadata": {},
     "output_type": "execute_result"
    }
   ],
   "source": [
    "#Create a new Column that stores Date and Time Together but as a Date format\n",
    "df_modified[\"date_time\"]= pd.to_datetime(df_modified[\"Date\"]+\" \"+df_modified[\"Time\"])\n",
    "#Drop Data and Time as columns\n",
    "df_modified.drop(df[[\"Date\", \"Time\"]], axis=1, inplace=True)\n",
    "#New Dataframe\n",
    "print(\"Overall information about the modified BreadBasket_DMS dataset\")\n",
    "df_modified.info()\n",
    "print(\"\\nSample of the modified BreadBasket_DMS dataset\")\n",
    "df_modified.head(5)\n"
   ]
  },
  {
   "cell_type": "markdown",
   "metadata": {
    "_uuid": "d41a2d837fe92a76ebcf35e664dbc2e29f105187"
   },
   "source": [
    "<h4>3. period_day</h4>"
   ]
  },
  {
   "cell_type": "code",
   "execution_count": 8,
   "metadata": {
    "_kg_hide-input": false,
    "_kg_hide-output": false,
    "_uuid": "04bbfe00744f89b50709a404b13b2124533bddb0"
   },
   "outputs": [
    {
     "name": "stdout",
     "output_type": "stream",
     "text": [
      "Period of Day column added\n"
     ]
    },
    {
     "data": {
      "text/html": [
       "<div>\n",
       "<style scoped>\n",
       "    .dataframe tbody tr th:only-of-type {\n",
       "        vertical-align: middle;\n",
       "    }\n",
       "\n",
       "    .dataframe tbody tr th {\n",
       "        vertical-align: top;\n",
       "    }\n",
       "\n",
       "    .dataframe thead th {\n",
       "        text-align: right;\n",
       "    }\n",
       "</style>\n",
       "<table border=\"1\" class=\"dataframe\">\n",
       "  <thead>\n",
       "    <tr style=\"text-align: right;\">\n",
       "      <th></th>\n",
       "      <th>Transaction</th>\n",
       "      <th>Item</th>\n",
       "      <th>date_time</th>\n",
       "      <th>period_day</th>\n",
       "    </tr>\n",
       "  </thead>\n",
       "  <tbody>\n",
       "    <tr>\n",
       "      <th>0</th>\n",
       "      <td>1</td>\n",
       "      <td>Bread</td>\n",
       "      <td>2016-10-30 09:58:11</td>\n",
       "      <td>morning</td>\n",
       "    </tr>\n",
       "    <tr>\n",
       "      <th>1</th>\n",
       "      <td>2</td>\n",
       "      <td>Scandinavian</td>\n",
       "      <td>2016-10-30 10:05:34</td>\n",
       "      <td>morning</td>\n",
       "    </tr>\n",
       "    <tr>\n",
       "      <th>2</th>\n",
       "      <td>2</td>\n",
       "      <td>Scandinavian</td>\n",
       "      <td>2016-10-30 10:05:34</td>\n",
       "      <td>morning</td>\n",
       "    </tr>\n",
       "    <tr>\n",
       "      <th>3</th>\n",
       "      <td>3</td>\n",
       "      <td>Hot chocolate</td>\n",
       "      <td>2016-10-30 10:07:57</td>\n",
       "      <td>morning</td>\n",
       "    </tr>\n",
       "    <tr>\n",
       "      <th>4</th>\n",
       "      <td>3</td>\n",
       "      <td>Jam</td>\n",
       "      <td>2016-10-30 10:07:57</td>\n",
       "      <td>morning</td>\n",
       "    </tr>\n",
       "    <tr>\n",
       "      <th>5</th>\n",
       "      <td>3</td>\n",
       "      <td>Cookies</td>\n",
       "      <td>2016-10-30 10:07:57</td>\n",
       "      <td>morning</td>\n",
       "    </tr>\n",
       "    <tr>\n",
       "      <th>6</th>\n",
       "      <td>4</td>\n",
       "      <td>Muffin</td>\n",
       "      <td>2016-10-30 10:08:41</td>\n",
       "      <td>morning</td>\n",
       "    </tr>\n",
       "    <tr>\n",
       "      <th>7</th>\n",
       "      <td>5</td>\n",
       "      <td>Coffee</td>\n",
       "      <td>2016-10-30 10:13:03</td>\n",
       "      <td>morning</td>\n",
       "    </tr>\n",
       "    <tr>\n",
       "      <th>8</th>\n",
       "      <td>5</td>\n",
       "      <td>Pastry</td>\n",
       "      <td>2016-10-30 10:13:03</td>\n",
       "      <td>morning</td>\n",
       "    </tr>\n",
       "    <tr>\n",
       "      <th>9</th>\n",
       "      <td>5</td>\n",
       "      <td>Bread</td>\n",
       "      <td>2016-10-30 10:13:03</td>\n",
       "      <td>morning</td>\n",
       "    </tr>\n",
       "  </tbody>\n",
       "</table>\n",
       "</div>"
      ],
      "text/plain": [
       "   Transaction           Item           date_time period_day\n",
       "0            1          Bread 2016-10-30 09:58:11    morning\n",
       "1            2   Scandinavian 2016-10-30 10:05:34    morning\n",
       "2            2   Scandinavian 2016-10-30 10:05:34    morning\n",
       "3            3  Hot chocolate 2016-10-30 10:07:57    morning\n",
       "4            3            Jam 2016-10-30 10:07:57    morning\n",
       "5            3        Cookies 2016-10-30 10:07:57    morning\n",
       "6            4         Muffin 2016-10-30 10:08:41    morning\n",
       "7            5         Coffee 2016-10-30 10:13:03    morning\n",
       "8            5         Pastry 2016-10-30 10:13:03    morning\n",
       "9            5          Bread 2016-10-30 10:13:03    morning"
      ]
     },
     "execution_count": 8,
     "metadata": {},
     "output_type": "execute_result"
    }
   ],
   "source": [
    "# addition of period time column that has whether the time is in the morning, afternoon, everning or night\n",
    "# morning hours bellow 12:00\n",
    "# afternoon hours between 12:00 and 17:00\n",
    "# everning hours between 17:00 and 21:00\n",
    "# night hours above 21:00\n",
    "df_modified[\"period_day\"]=np.nan\n",
    "#Morning\n",
    "morning_mask =(df_modified[\"date_time\"].dt.hour>=1)&(df_modified[\"date_time\"].dt.hour<12)\n",
    "df_modified.loc[morning_mask,\"period_day\"] =\"morning\"\n",
    "#Afternoon\n",
    "afternoon_mask = (df_modified[\"date_time\"].dt.hour>=12)&(df_modified[\"date_time\"].dt.hour<17)\n",
    "df_modified.loc[afternoon_mask,\"period_day\"] =\"afternoon\"\n",
    "#Evening\n",
    "evening_mask = (df_modified[\"date_time\"].dt.hour>=17)&(df_modified[\"date_time\"].dt.hour<21)\n",
    "df_modified.loc[evening_mask,\"period_day\"] =\"evening\"\n",
    "#Night\n",
    "night_mask = (df_modified[\"date_time\"].dt.hour>=21)&(df_modified[\"date_time\"].dt.hour<=24)\n",
    "df_modified.loc[night_mask,\"period_day\"] =\"night\"\n",
    "#df_modified.loc[df_modified[\"Date/Time\"].dt.hour<=12,\"period_time\"] =\"night\"\n",
    "print(\"Period of Day column added\")\n",
    "df_modified.head(10)\n",
    "#print(df_modified.loc[df_modified[\"period_time\"]==\"morning\"])"
   ]
  },
  {
   "cell_type": "markdown",
   "metadata": {
    "_uuid": "5c2b5aeb95caf8876ea7a5116ab7151a81965d07"
   },
   "source": [
    "<h4>4. weekday_weekend and weekday</h4>"
   ]
  },
  {
   "cell_type": "code",
   "execution_count": 9,
   "metadata": {
    "_uuid": "79910729dab25dcd58be0121b75e6d74fb942965"
   },
   "outputs": [
    {
     "name": "stdout",
     "output_type": "stream",
     "text": [
      "Weekday or Weekdend column added\n"
     ]
    },
    {
     "data": {
      "text/html": [
       "<div>\n",
       "<style scoped>\n",
       "    .dataframe tbody tr th:only-of-type {\n",
       "        vertical-align: middle;\n",
       "    }\n",
       "\n",
       "    .dataframe tbody tr th {\n",
       "        vertical-align: top;\n",
       "    }\n",
       "\n",
       "    .dataframe thead th {\n",
       "        text-align: right;\n",
       "    }\n",
       "</style>\n",
       "<table border=\"1\" class=\"dataframe\">\n",
       "  <thead>\n",
       "    <tr style=\"text-align: right;\">\n",
       "      <th></th>\n",
       "      <th>Transaction</th>\n",
       "      <th>Item</th>\n",
       "      <th>date_time</th>\n",
       "      <th>period_day</th>\n",
       "      <th>weekday_weekend</th>\n",
       "      <th>weekday</th>\n",
       "    </tr>\n",
       "  </thead>\n",
       "  <tbody>\n",
       "    <tr>\n",
       "      <th>0</th>\n",
       "      <td>1</td>\n",
       "      <td>Bread</td>\n",
       "      <td>2016-10-30 09:58:11</td>\n",
       "      <td>morning</td>\n",
       "      <td>weekend</td>\n",
       "      <td>6</td>\n",
       "    </tr>\n",
       "    <tr>\n",
       "      <th>1</th>\n",
       "      <td>2</td>\n",
       "      <td>Scandinavian</td>\n",
       "      <td>2016-10-30 10:05:34</td>\n",
       "      <td>morning</td>\n",
       "      <td>weekend</td>\n",
       "      <td>6</td>\n",
       "    </tr>\n",
       "    <tr>\n",
       "      <th>2</th>\n",
       "      <td>2</td>\n",
       "      <td>Scandinavian</td>\n",
       "      <td>2016-10-30 10:05:34</td>\n",
       "      <td>morning</td>\n",
       "      <td>weekend</td>\n",
       "      <td>6</td>\n",
       "    </tr>\n",
       "    <tr>\n",
       "      <th>3</th>\n",
       "      <td>3</td>\n",
       "      <td>Hot chocolate</td>\n",
       "      <td>2016-10-30 10:07:57</td>\n",
       "      <td>morning</td>\n",
       "      <td>weekend</td>\n",
       "      <td>6</td>\n",
       "    </tr>\n",
       "    <tr>\n",
       "      <th>4</th>\n",
       "      <td>3</td>\n",
       "      <td>Jam</td>\n",
       "      <td>2016-10-30 10:07:57</td>\n",
       "      <td>morning</td>\n",
       "      <td>weekend</td>\n",
       "      <td>6</td>\n",
       "    </tr>\n",
       "    <tr>\n",
       "      <th>5</th>\n",
       "      <td>3</td>\n",
       "      <td>Cookies</td>\n",
       "      <td>2016-10-30 10:07:57</td>\n",
       "      <td>morning</td>\n",
       "      <td>weekend</td>\n",
       "      <td>6</td>\n",
       "    </tr>\n",
       "    <tr>\n",
       "      <th>6</th>\n",
       "      <td>4</td>\n",
       "      <td>Muffin</td>\n",
       "      <td>2016-10-30 10:08:41</td>\n",
       "      <td>morning</td>\n",
       "      <td>weekend</td>\n",
       "      <td>6</td>\n",
       "    </tr>\n",
       "    <tr>\n",
       "      <th>7</th>\n",
       "      <td>5</td>\n",
       "      <td>Coffee</td>\n",
       "      <td>2016-10-30 10:13:03</td>\n",
       "      <td>morning</td>\n",
       "      <td>weekend</td>\n",
       "      <td>6</td>\n",
       "    </tr>\n",
       "    <tr>\n",
       "      <th>8</th>\n",
       "      <td>5</td>\n",
       "      <td>Pastry</td>\n",
       "      <td>2016-10-30 10:13:03</td>\n",
       "      <td>morning</td>\n",
       "      <td>weekend</td>\n",
       "      <td>6</td>\n",
       "    </tr>\n",
       "    <tr>\n",
       "      <th>9</th>\n",
       "      <td>5</td>\n",
       "      <td>Bread</td>\n",
       "      <td>2016-10-30 10:13:03</td>\n",
       "      <td>morning</td>\n",
       "      <td>weekend</td>\n",
       "      <td>6</td>\n",
       "    </tr>\n",
       "  </tbody>\n",
       "</table>\n",
       "</div>"
      ],
      "text/plain": [
       "   Transaction           Item           date_time period_day weekday_weekend  \\\n",
       "0            1          Bread 2016-10-30 09:58:11    morning         weekend   \n",
       "1            2   Scandinavian 2016-10-30 10:05:34    morning         weekend   \n",
       "2            2   Scandinavian 2016-10-30 10:05:34    morning         weekend   \n",
       "3            3  Hot chocolate 2016-10-30 10:07:57    morning         weekend   \n",
       "4            3            Jam 2016-10-30 10:07:57    morning         weekend   \n",
       "5            3        Cookies 2016-10-30 10:07:57    morning         weekend   \n",
       "6            4         Muffin 2016-10-30 10:08:41    morning         weekend   \n",
       "7            5         Coffee 2016-10-30 10:13:03    morning         weekend   \n",
       "8            5         Pastry 2016-10-30 10:13:03    morning         weekend   \n",
       "9            5          Bread 2016-10-30 10:13:03    morning         weekend   \n",
       "\n",
       "   weekday  \n",
       "0        6  \n",
       "1        6  \n",
       "2        6  \n",
       "3        6  \n",
       "4        6  \n",
       "5        6  \n",
       "6        6  \n",
       "7        6  \n",
       "8        6  \n",
       "9        6  "
      ]
     },
     "execution_count": 9,
     "metadata": {},
     "output_type": "execute_result"
    }
   ],
   "source": [
    "# Addition of column Weekday/Weekend, which shows whether the day it is within the Weekday or Weekend\n",
    "df_modified[\"weekday_weekend\"]=np.nan\n",
    "# We add the number of week value in a column named weekday\n",
    "df_modified[\"weekday\"]= df_modified[\"date_time\"].dt.dayofweek\n",
    "# We create a mask with the index of parameters applied to the column Weekday\n",
    "# For example: Monday is 0 and Saturday is 5\n",
    "mask_weekday = (df_modified[\"weekday\"]>=0)&(df_modified[\"weekday\"]<=4)\n",
    "df_modified.loc[mask_weekday,\"weekday_weekend\"] =\"weekday\"\n",
    "#We create a mask with the index of parameters applied to the column Weekend\n",
    "mask_weekday = (df_modified[\"weekday\"]>=5)&(df_modified[\"weekday\"]<=6)\n",
    "df_modified.loc[mask_weekday,\"weekday_weekend\"] =\"weekend\"\n",
    "# We drop the week of day column \"weekday\"\n",
    "#df_modified.drop('weekday', axis=1, inplace=True)\n",
    "print(\"Weekday or Weekdend column added\")\n",
    "df_modified.head(10)"
   ]
  },
  {
   "cell_type": "code",
   "execution_count": 10,
   "metadata": {},
   "outputs": [],
   "source": [
    "path = \"./dataset/BreadBasket_DMS_modified.csv\"\n",
    "df_modified.to_csv(path,index=False)"
   ]
  },
  {
   "cell_type": "markdown",
   "metadata": {
    "_uuid": "52a3953242754009648240ee69f2967bc811a2f9"
   },
   "source": [
    "<h2><a class=\"anchor\" id=\"quality_visualization\">Analysis and Visualization of Data</a></h2>\n"
   ]
  },
  {
   "cell_type": "code",
   "execution_count": 11,
   "metadata": {
    "_uuid": "f4ac21324b92ef02770a4f57f6a759f2e7c7bf5f"
   },
   "outputs": [
    {
     "data": {
      "text/html": [
       "<div>\n",
       "<style scoped>\n",
       "    .dataframe tbody tr th:only-of-type {\n",
       "        vertical-align: middle;\n",
       "    }\n",
       "\n",
       "    .dataframe tbody tr th {\n",
       "        vertical-align: top;\n",
       "    }\n",
       "\n",
       "    .dataframe thead th {\n",
       "        text-align: right;\n",
       "    }\n",
       "</style>\n",
       "<table border=\"1\" class=\"dataframe\">\n",
       "  <thead>\n",
       "    <tr style=\"text-align: right;\">\n",
       "      <th></th>\n",
       "      <th>weekday</th>\n",
       "      <th>Item</th>\n",
       "      <th>Transaction</th>\n",
       "    </tr>\n",
       "  </thead>\n",
       "  <tbody>\n",
       "    <tr>\n",
       "      <th>0</th>\n",
       "      <td>0</td>\n",
       "      <td>Afternoon with the baker</td>\n",
       "      <td>5</td>\n",
       "    </tr>\n",
       "    <tr>\n",
       "      <th>1</th>\n",
       "      <td>0</td>\n",
       "      <td>Alfajores</td>\n",
       "      <td>32</td>\n",
       "    </tr>\n",
       "    <tr>\n",
       "      <th>2</th>\n",
       "      <td>0</td>\n",
       "      <td>Art Tray</td>\n",
       "      <td>2</td>\n",
       "    </tr>\n",
       "    <tr>\n",
       "      <th>3</th>\n",
       "      <td>0</td>\n",
       "      <td>Baguette</td>\n",
       "      <td>10</td>\n",
       "    </tr>\n",
       "    <tr>\n",
       "      <th>4</th>\n",
       "      <td>0</td>\n",
       "      <td>Bakewell</td>\n",
       "      <td>8</td>\n",
       "    </tr>\n",
       "  </tbody>\n",
       "</table>\n",
       "</div>"
      ],
      "text/plain": [
       "   weekday                      Item  Transaction\n",
       "0        0  Afternoon with the baker            5\n",
       "1        0                 Alfajores           32\n",
       "2        0                  Art Tray            2\n",
       "3        0                  Baguette           10\n",
       "4        0                  Bakewell            8"
      ]
     },
     "execution_count": 11,
     "metadata": {},
     "output_type": "execute_result"
    }
   ],
   "source": [
    "df_Item_by_weekday_count = df_modified.groupby([\"weekday\",\"Item\"])[\"Transaction\"].count()\n",
    "df_Item_by_weekday_count=df_Item_by_weekday_count.reset_index()\n",
    "#print(df_Item_by_weekday_count.loc[df_Item_by_weekday_count[\"weekday\"]==0].describe())\n",
    "df_Item_by_weekday_count.head(5)\n"
   ]
  },
  {
   "cell_type": "code",
   "execution_count": 13,
   "metadata": {
    "_uuid": "de08ed61d7739491d9820e79ce9fec61e6cf5bb5"
   },
   "outputs": [
    {
     "data": {
      "image/png": "[encoded data removed]",
      "text/plain": [
       "<Figure size 432x288 with 1 Axes>"
      ]
     },
     "metadata": {
      "needs_background": "light"
     },
     "output_type": "display_data"
    }
   ],
   "source": [
    "import matplotlib.pyplot as plt\n",
    "name_day = [\"Monday\",\"Tuesday\",\"Wednesday\",\"Thrusday\",\"Friday\",\"Saturday\",\"Sunday\"]\n",
    "plt.bar(df_Item_by_weekday_count[\"weekday\"],df_Item_by_weekday_count[\"Transaction\"])\n",
    "plt.xlabel(\"Day of the Week\")\n",
    "plt.ylabel(\"Amount of transactions\")\n",
    "plt.xticks([0,1,2,3,4,5,6],name_day, fontsize=9,rotation=90)\n",
    "plt.savefig('./graphs/total_amount-transaction-vs-day.png',bbox_inches='tight', dpi=1500)\n",
    "plt.show()"
   ]
  }
 ],
 "metadata": {
  "kernelspec": {
   "display_name": "Python 3",
   "language": "python",
   "name": "python3"
  },
  "language_info": {
   "codemirror_mode": {
    "name": "ipython",
    "version": 3
   },
   "file_extension": ".py",
   "mimetype": "text/x-python",
   "name": "python",
   "nbconvert_exporter": "python",
   "pygments_lexer": "ipython3",
   "version": "3.6.6"
  }
 },
 "nbformat": 4,
 "nbformat_minor": 1
}
